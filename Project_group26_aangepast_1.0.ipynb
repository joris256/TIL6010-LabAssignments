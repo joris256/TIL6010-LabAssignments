{
 "cells": [
  {
   "cell_type": "markdown",
   "metadata": {},
   "source": [
    "# Project Group - 26\n",
    "\n",
    "Members: Joris Veen, Frans Kraanen, Romee Hoogeveen, Jasper van Raaij, Olivier Klein Schiphorst\n",
    "\n",
    "Student numbers: 4722868, 4727282, 4850025, 5177006, 4705106"
   ]
  },
  {
   "cell_type": "markdown",
   "metadata": {},
   "source": [
    "# Research Objective\n",
    "\n",
    "*Requires data modeling and quantitative research in Transport, Infrastructure & Logistics*"
   ]
  },
  {
   "cell_type": "markdown",
   "metadata": {},
   "source": [
    "To transport goods on the road vehicles need fuel to drive. The prices of fuel can fluctuate a lot so this can lead to high or low costs for tranport companies. This research will try to find out if the prices of fuel have an influence on the road transport. The following research question is proposed:\n",
    "\n",
    "\n",
    "**Research question:** \n",
    "\n",
    "- How do fuel prices influence road transport of goods expressed in tons in the Netherlands?\n",
    "\n",
    "**sub-questions:** \n",
    "\n",
    "- How do fuel prices influence incoming transport of goods in the Netherlands?\n",
    "- How do fuel prices influence throughgoing transport of goods in the Netherlands?\n",
    "- How do fuel prices influence outgoing transport of goods in the Netherlands?\n",
    "\n",
    "First the available data will be explored and secondly we will focus to answer our research questions. The data available is from 2007 till 2022. The data used is focussed on the Netherlands only."
   ]
  },
  {
   "cell_type": "markdown",
   "metadata": {},
   "source": [
    "# Contribution Statement\n",
    "\n",
    "*Be specific. Some of the tasks can be coding (expect everyone to do this), background research, conceptualisation, visualisation, data analysis, data modelling*"
   ]
  },
  {
   "cell_type": "markdown",
   "metadata": {},
   "source": [
    "**Author 1**:\n",
    "\n",
    "**Author 2**:\n",
    "\n",
    "**Author 3**:"
   ]
  },
  {
   "cell_type": "markdown",
   "metadata": {},
   "source": [
    "# Data Used"
   ]
  },
  {
   "cell_type": "markdown",
   "metadata": {},
   "source": [
    "- CBS: International trade and transport in the Netherlands https://opendata.cbs.nl/statline/#/CBS/nl/dataset/84668NED/table?ts=1696403890264\n",
    "- CBS: Fuel prices in the Netherlands https://opendata.cbs.nl/#/CBS/nl/dataset/80416ned/table"
   ]
  },
  {
   "cell_type": "markdown",
   "metadata": {},
   "source": [
    "# Data Pipeline"
   ]
  },
  {
   "cell_type": "markdown",
   "metadata": {},
   "source": []
  },
  {
   "cell_type": "markdown",
   "metadata": {},
   "source": [
    "Data Preparation"
   ]
  },
  {
   "cell_type": "code",
   "execution_count": 1,
   "metadata": {},
   "outputs": [],
   "source": [
    "# import necassary libraries\n",
    "import pandas as pd\n",
    "\n",
    "#load datasets\n",
    "fuel_data = pd.read_csv('fuel_prices.csv', delimiter=';')\n",
    "transport_data = pd.read_csv('road_transport.csv', delimiter=';')"
   ]
  },
  {
   "cell_type": "code",
   "execution_count": 2,
   "metadata": {},
   "outputs": [
    {
     "data": {
      "text/html": [
       "<div>\n",
       "<style scoped>\n",
       "    .dataframe tbody tr th:only-of-type {\n",
       "        vertical-align: middle;\n",
       "    }\n",
       "\n",
       "    .dataframe tbody tr th {\n",
       "        vertical-align: top;\n",
       "    }\n",
       "\n",
       "    .dataframe thead th {\n",
       "        text-align: right;\n",
       "    }\n",
       "</style>\n",
       "<table border=\"1\" class=\"dataframe\">\n",
       "  <thead>\n",
       "    <tr style=\"text-align: right;\">\n",
       "      <th></th>\n",
       "      <th>Perioden</th>\n",
       "      <th>Benzine</th>\n",
       "      <th>Diesel</th>\n",
       "      <th>Lpg</th>\n",
       "    </tr>\n",
       "  </thead>\n",
       "  <tbody>\n",
       "    <tr>\n",
       "      <th>0</th>\n",
       "      <td>2006 zondag 1 januari</td>\n",
       "      <td>1,325</td>\n",
       "      <td>1,003</td>\n",
       "      <td>0,543</td>\n",
       "    </tr>\n",
       "    <tr>\n",
       "      <th>1</th>\n",
       "      <td>2006 maandag 2 januari</td>\n",
       "      <td>1,328</td>\n",
       "      <td>1,007</td>\n",
       "      <td>0,542</td>\n",
       "    </tr>\n",
       "    <tr>\n",
       "      <th>2</th>\n",
       "      <td>2006 dinsdag 3 januari</td>\n",
       "      <td>1,332</td>\n",
       "      <td>1,007</td>\n",
       "      <td>0,54</td>\n",
       "    </tr>\n",
       "    <tr>\n",
       "      <th>3</th>\n",
       "      <td>2006 woensdag 4 januari</td>\n",
       "      <td>1,348</td>\n",
       "      <td>1,02</td>\n",
       "      <td>0,55</td>\n",
       "    </tr>\n",
       "    <tr>\n",
       "      <th>4</th>\n",
       "      <td>2006 donderdag 5 januari</td>\n",
       "      <td>1,347</td>\n",
       "      <td>1,021</td>\n",
       "      <td>0,55</td>\n",
       "    </tr>\n",
       "  </tbody>\n",
       "</table>\n",
       "</div>"
      ],
      "text/plain": [
       "                   Perioden Benzine Diesel    Lpg\n",
       "0     2006 zondag 1 januari   1,325  1,003  0,543\n",
       "1    2006 maandag 2 januari   1,328  1,007  0,542\n",
       "2    2006 dinsdag 3 januari   1,332  1,007   0,54\n",
       "3   2006 woensdag 4 januari   1,348   1,02   0,55\n",
       "4  2006 donderdag 5 januari   1,347  1,021   0,55"
      ]
     },
     "execution_count": 2,
     "metadata": {},
     "output_type": "execute_result"
    }
   ],
   "source": [
    "fuel_data.head() "
   ]
  },
  {
   "cell_type": "code",
   "execution_count": 3,
   "metadata": {},
   "outputs": [
    {
     "data": {
      "text/html": [
       "<div>\n",
       "<style scoped>\n",
       "    .dataframe tbody tr th:only-of-type {\n",
       "        vertical-align: middle;\n",
       "    }\n",
       "\n",
       "    .dataframe tbody tr th {\n",
       "        vertical-align: top;\n",
       "    }\n",
       "\n",
       "    .dataframe thead th {\n",
       "        text-align: right;\n",
       "    }\n",
       "</style>\n",
       "<table border=\"1\" class=\"dataframe\">\n",
       "  <thead>\n",
       "    <tr style=\"text-align: right;\">\n",
       "      <th></th>\n",
       "      <th>Goederenstromen</th>\n",
       "      <th>Perioden</th>\n",
       "      <th>1000 kg</th>\n",
       "    </tr>\n",
       "  </thead>\n",
       "  <tbody>\n",
       "    <tr>\n",
       "      <th>0</th>\n",
       "      <td>Inkomend transport; totaal</td>\n",
       "      <td>2007*</td>\n",
       "      <td>103838966</td>\n",
       "    </tr>\n",
       "    <tr>\n",
       "      <th>1</th>\n",
       "      <td>Inkomend transport; totaal</td>\n",
       "      <td>2008*</td>\n",
       "      <td>103405705</td>\n",
       "    </tr>\n",
       "    <tr>\n",
       "      <th>2</th>\n",
       "      <td>Inkomend transport; totaal</td>\n",
       "      <td>2009*</td>\n",
       "      <td>89433416</td>\n",
       "    </tr>\n",
       "    <tr>\n",
       "      <th>3</th>\n",
       "      <td>Inkomend transport; totaal</td>\n",
       "      <td>2010*</td>\n",
       "      <td>89935769</td>\n",
       "    </tr>\n",
       "    <tr>\n",
       "      <th>4</th>\n",
       "      <td>Inkomend transport; totaal</td>\n",
       "      <td>2011*</td>\n",
       "      <td>91253760</td>\n",
       "    </tr>\n",
       "  </tbody>\n",
       "</table>\n",
       "</div>"
      ],
      "text/plain": [
       "              Goederenstromen Perioden    1000 kg\n",
       "0  Inkomend transport; totaal    2007*  103838966\n",
       "1  Inkomend transport; totaal    2008*  103405705\n",
       "2  Inkomend transport; totaal    2009*   89433416\n",
       "3  Inkomend transport; totaal    2010*   89935769\n",
       "4  Inkomend transport; totaal    2011*   91253760"
      ]
     },
     "execution_count": 3,
     "metadata": {},
     "output_type": "execute_result"
    }
   ],
   "source": [
    "transport_data.head()"
   ]
  },
  {
   "cell_type": "code",
   "execution_count": 4,
   "metadata": {},
   "outputs": [
    {
     "data": {
      "text/html": [
       "<div>\n",
       "<style scoped>\n",
       "    .dataframe tbody tr th:only-of-type {\n",
       "        vertical-align: middle;\n",
       "    }\n",
       "\n",
       "    .dataframe tbody tr th {\n",
       "        vertical-align: top;\n",
       "    }\n",
       "\n",
       "    .dataframe thead th {\n",
       "        text-align: right;\n",
       "    }\n",
       "</style>\n",
       "<table border=\"1\" class=\"dataframe\">\n",
       "  <thead>\n",
       "    <tr style=\"text-align: right;\">\n",
       "      <th></th>\n",
       "      <th>Perioden</th>\n",
       "      <th>Benzine</th>\n",
       "      <th>Diesel</th>\n",
       "      <th>Lpg</th>\n",
       "    </tr>\n",
       "  </thead>\n",
       "  <tbody>\n",
       "    <tr>\n",
       "      <th>0</th>\n",
       "      <td>2006</td>\n",
       "      <td>1.373255</td>\n",
       "      <td>1.043211</td>\n",
       "      <td>0.520479</td>\n",
       "    </tr>\n",
       "    <tr>\n",
       "      <th>1</th>\n",
       "      <td>2007</td>\n",
       "      <td>1.414156</td>\n",
       "      <td>1.059721</td>\n",
       "      <td>0.538271</td>\n",
       "    </tr>\n",
       "    <tr>\n",
       "      <th>2</th>\n",
       "      <td>2008</td>\n",
       "      <td>1.476393</td>\n",
       "      <td>1.241314</td>\n",
       "      <td>0.598790</td>\n",
       "    </tr>\n",
       "    <tr>\n",
       "      <th>3</th>\n",
       "      <td>2009</td>\n",
       "      <td>1.354011</td>\n",
       "      <td>1.012929</td>\n",
       "      <td>0.509482</td>\n",
       "    </tr>\n",
       "    <tr>\n",
       "      <th>4</th>\n",
       "      <td>2010</td>\n",
       "      <td>1.503186</td>\n",
       "      <td>1.170838</td>\n",
       "      <td>0.644268</td>\n",
       "    </tr>\n",
       "  </tbody>\n",
       "</table>\n",
       "</div>"
      ],
      "text/plain": [
       "   Perioden   Benzine    Diesel       Lpg\n",
       "0      2006  1.373255  1.043211  0.520479\n",
       "1      2007  1.414156  1.059721  0.538271\n",
       "2      2008  1.476393  1.241314  0.598790\n",
       "3      2009  1.354011  1.012929  0.509482\n",
       "4      2010  1.503186  1.170838  0.644268"
      ]
     },
     "execution_count": 4,
     "metadata": {},
     "output_type": "execute_result"
    }
   ],
   "source": [
    "#only run this cell one time\n",
    "from datetime import datetime\n",
    "\n",
    "# Custom function to convert a date string to a Pandas datetime\n",
    "def parse_date(date_str):\n",
    "    for i, month_name in enumerate(dutch_months):\n",
    "        date_str = date_str.replace(month_name, datetime(2000, i+1, 1).strftime('%B'))\n",
    "\n",
    "    for i, day_name in enumerate(dutch_days):\n",
    "        date_str = date_str.replace(day_name, datetime(2000, 1, i+1).strftime('%A'))\n",
    "\n",
    "    date_format = '%Y %A %d %B'\n",
    "    return pd.to_datetime(date_str, format=date_format)\n",
    "\n",
    "# Define Dutch months and day names\n",
    "dutch_months = ['januari', 'februari', 'maart', 'april', 'mei', 'juni', 'juli', 'augustus', 'september', 'oktober', 'november', 'december']\n",
    "dutch_days = ['zondag', 'maandag', 'dinsdag', 'woensdag', 'donderdag', 'vrijdag', 'zaterdag']\n",
    "\n",
    "# Apply the custom function to the \"Perioden\" column\n",
    "fuel_data['Perioden'] = fuel_data['Perioden'].apply(parse_date)\n",
    "\n",
    "#set perioden to datetime format year\n",
    "fuel_data['Perioden'] = fuel_data['Perioden'].dt.year\n",
    "\n",
    "#replace , to . and set to float\n",
    "fuel_data['Benzine'] = fuel_data['Benzine'].str.replace(',', '.', regex=False)\n",
    "fuel_data['Benzine'] = fuel_data['Benzine'].astype(float)\n",
    "fuel_data['Diesel'] = fuel_data['Diesel'].str.replace(',', '.', regex=False)\n",
    "fuel_data['Diesel'] = fuel_data['Diesel'].astype(float)\n",
    "fuel_data['Lpg'] = fuel_data['Lpg'].str.replace(',', '.', regex=False)\n",
    "fuel_data['Lpg'] = fuel_data['Lpg'].astype(float)\n",
    "\n",
    "# Group by year and calculate the mean for all columns\n",
    "fuel_data = fuel_data.groupby('Perioden').mean().reset_index()\n",
    "\n",
    "# Display the DataFrame with the converted dates\n",
    "fuel_data.head()"
   ]
  },
  {
   "cell_type": "code",
   "execution_count": 5,
   "metadata": {},
   "outputs": [],
   "source": [
    "#only run this cell one time\n",
    "#remove asterix from tansport data\n",
    "transport_data['Perioden'] = transport_data['Perioden'].str.replace('*', '', regex=False)\n",
    "\n",
    "#set perioden to datetime format year\n",
    "transport_data['Perioden'] = pd.to_datetime(transport_data['Perioden'])\n",
    "transport_data['Perioden'] = transport_data['Perioden'].dt.year"
   ]
  },
  {
   "cell_type": "code",
   "execution_count": 6,
   "metadata": {},
   "outputs": [
    {
     "data": {
      "text/html": [
       "<div>\n",
       "<style scoped>\n",
       "    .dataframe tbody tr th:only-of-type {\n",
       "        vertical-align: middle;\n",
       "    }\n",
       "\n",
       "    .dataframe tbody tr th {\n",
       "        vertical-align: top;\n",
       "    }\n",
       "\n",
       "    .dataframe thead th {\n",
       "        text-align: right;\n",
       "    }\n",
       "</style>\n",
       "<table border=\"1\" class=\"dataframe\">\n",
       "  <thead>\n",
       "    <tr style=\"text-align: right;\">\n",
       "      <th></th>\n",
       "      <th>Goederenstromen</th>\n",
       "      <th>Perioden</th>\n",
       "      <th>1000 kg</th>\n",
       "    </tr>\n",
       "  </thead>\n",
       "  <tbody>\n",
       "    <tr>\n",
       "      <th>0</th>\n",
       "      <td>Inkomend transport; totaal</td>\n",
       "      <td>2007</td>\n",
       "      <td>103838966</td>\n",
       "    </tr>\n",
       "    <tr>\n",
       "      <th>1</th>\n",
       "      <td>Inkomend transport; totaal</td>\n",
       "      <td>2008</td>\n",
       "      <td>103405705</td>\n",
       "    </tr>\n",
       "    <tr>\n",
       "      <th>2</th>\n",
       "      <td>Inkomend transport; totaal</td>\n",
       "      <td>2009</td>\n",
       "      <td>89433416</td>\n",
       "    </tr>\n",
       "    <tr>\n",
       "      <th>3</th>\n",
       "      <td>Inkomend transport; totaal</td>\n",
       "      <td>2010</td>\n",
       "      <td>89935769</td>\n",
       "    </tr>\n",
       "    <tr>\n",
       "      <th>4</th>\n",
       "      <td>Inkomend transport; totaal</td>\n",
       "      <td>2011</td>\n",
       "      <td>91253760</td>\n",
       "    </tr>\n",
       "  </tbody>\n",
       "</table>\n",
       "</div>"
      ],
      "text/plain": [
       "              Goederenstromen  Perioden    1000 kg\n",
       "0  Inkomend transport; totaal      2007  103838966\n",
       "1  Inkomend transport; totaal      2008  103405705\n",
       "2  Inkomend transport; totaal      2009   89433416\n",
       "3  Inkomend transport; totaal      2010   89935769\n",
       "4  Inkomend transport; totaal      2011   91253760"
      ]
     },
     "execution_count": 6,
     "metadata": {},
     "output_type": "execute_result"
    }
   ],
   "source": [
    "transport_data.head()"
   ]
  },
  {
   "cell_type": "code",
   "execution_count": 7,
   "metadata": {},
   "outputs": [
    {
     "name": "stderr",
     "output_type": "stream",
     "text": [
      "C:\\Users\\olivi\\AppData\\Local\\Temp\\ipykernel_20552\\4232926163.py:17: SettingWithCopyWarning: \n",
      "A value is trying to be set on a copy of a slice from a DataFrame.\n",
      "Try using .loc[row_indexer,col_indexer] = value instead\n",
      "\n",
      "See the caveats in the documentation: https://pandas.pydata.org/pandas-docs/stable/user_guide/indexing.html#returning-a-view-versus-a-copy\n",
      "  transport_data_filtered['Transport Inkomend Diff (%)'] = ((transport_data_filtered['1000 kg'] - transport_data_filtered['1000 kg'].iloc[0]) / transport_data_filtered['1000 kg'].iloc[0]) * 100\n"
     ]
    },
    {
     "data": {
      "application/vnd.plotly.v1+json": {
       "config": {
        "plotlyServerURL": "https://plot.ly"
       },
       "data": [
        {
         "mode": "lines+text",
         "name": "Benzine Price Diff (%)",
         "text": [
          "0.0%",
          "3.0%",
          "7.5%",
          "-1.4%",
          "9.5%",
          "19.4%",
          "28.0%",
          "26.4%",
          "23.4%",
          "13.4%",
          "7.5%",
          "13.0%",
          "17.8%",
          "20.0%",
          "13.7%",
          "32.1%",
          "50.9%",
          "39.0%"
         ],
         "textposition": "top center",
         "type": "scatter",
         "x": [
          2006,
          2007,
          2008,
          2009,
          2010,
          2011,
          2012,
          2013,
          2014,
          2015,
          2016,
          2017,
          2018,
          2019,
          2020,
          2021,
          2022,
          2023
         ],
         "y": [
          0,
          2.978425418663384,
          7.510525250954042,
          -1.4013303061619453,
          9.461573144893237,
          19.41492863669553,
          28.044884363583517,
          26.385669083349626,
          23.402256014109053,
          13.436331642852299,
          7.548725748489369,
          12.998016910130511,
          17.81588786165454,
          19.96835834473842,
          13.718901944141484,
          32.14560747588969,
          50.88341267022851,
          39.01822704006159
         ]
        },
        {
         "mode": "lines+text",
         "name": "Diesel Price Diff (%)",
         "text": [
          "0.0%",
          "1.6%",
          "19.0%",
          "-2.9%",
          "12.2%",
          "29.2%",
          "38.4%",
          "36.2%",
          "34.3%",
          "17.9%",
          "8.7%",
          "17.0%",
          "28.0%",
          "30.0%",
          "18.6%",
          "40.1%",
          "87.5%",
          "61.7%"
         ],
         "textposition": "top center",
         "type": "scatter",
         "x": [
          2006,
          2007,
          2008,
          2009,
          2010,
          2011,
          2012,
          2013,
          2014,
          2015,
          2016,
          2017,
          2018,
          2019,
          2020,
          2021,
          2022,
          2023
         ],
         "y": [
          0,
          1.5825743489542194,
          18.989759171459482,
          -2.9027869696301307,
          12.23409284296114,
          29.215120859727072,
          38.41407697528385,
          36.177029823621474,
          34.30241719454162,
          17.924112067063746,
          8.698917195488772,
          17.0028258380343,
          28.01702856302459,
          30.025842236298878,
          18.5764702414462,
          40.067021734791425,
          87.49041421112894,
          61.67928585993978
         ]
        },
        {
         "mode": "lines+text",
         "name": "Lpg Price Diff (%)",
         "text": [
          "0.0%",
          "3.4%",
          "15.0%",
          "-2.1%",
          "23.8%",
          "34.6%",
          "47.7%",
          "40.6%",
          "45.5%",
          "18.9%",
          "9.8%",
          "21.5%",
          "31.7%",
          "21.6%",
          "16.2%",
          "50.4%",
          "78.5%",
          "49.8%"
         ],
         "textposition": "top center",
         "type": "scatter",
         "x": [
          2006,
          2007,
          2008,
          2009,
          2010,
          2011,
          2012,
          2013,
          2014,
          2015,
          2016,
          2017,
          2018,
          2019,
          2020,
          2021,
          2022,
          2023
         ],
         "y": [
          0,
          3.4183445190156565,
          15.045774645355275,
          -2.1129095933675326,
          23.783655744176883,
          34.561916041584404,
          47.669120972920645,
          40.576391630477694,
          45.52072641136991,
          18.91933149098566,
          9.763759539830158,
          21.538623503092523,
          31.687853664955927,
          21.613370180286875,
          16.247902909284154,
          50.41558099749969,
          78.54454533491248,
          49.83525267882393
         ]
        },
        {
         "mode": "lines+text",
         "name": "Transport Inkomend Diff (%)",
         "text": [
          "0.0%",
          "-0.4%",
          "-13.9%",
          "-13.4%",
          "-12.1%",
          "-13.1%",
          "-13.4%",
          "-13.5%",
          "-12.8%",
          "-11.3%",
          "-7.8%",
          "-14.9%",
          "-8.4%",
          "-11.1%",
          "-7.6%"
         ],
         "textposition": "top center",
         "type": "scatter",
         "x": [
          2007,
          2008,
          2009,
          2010,
          2011,
          2012,
          2013,
          2014,
          2015,
          2016,
          2017,
          2018,
          2019,
          2020,
          2021
         ],
         "y": [
          0,
          -0.41724317632361635,
          -13.872971346806363,
          -13.38919052795653,
          -12.119926155659138,
          -13.118424156881531,
          -13.352220783862581,
          -13.543034509800492,
          -12.777266098739851,
          -11.250444269639589,
          -7.847312347081731,
          -14.852579522026444,
          -8.36498410432939,
          -11.083342259012865,
          -7.561016160349671
         ]
        }
       ],
       "layout": {
        "annotations": [
         {
          "font": {
           "size": 16
          },
          "showarrow": false,
          "text": "Fuel and Incoming Transport Differences",
          "x": 0.5,
          "xanchor": "center",
          "xref": "paper",
          "y": 1,
          "yanchor": "bottom",
          "yref": "paper"
         }
        ],
        "height": 750,
        "template": {
         "data": {
          "bar": [
           {
            "error_x": {
             "color": "#2a3f5f"
            },
            "error_y": {
             "color": "#2a3f5f"
            },
            "marker": {
             "line": {
              "color": "#E5ECF6",
              "width": 0.5
             },
             "pattern": {
              "fillmode": "overlay",
              "size": 10,
              "solidity": 0.2
             }
            },
            "type": "bar"
           }
          ],
          "barpolar": [
           {
            "marker": {
             "line": {
              "color": "#E5ECF6",
              "width": 0.5
             },
             "pattern": {
              "fillmode": "overlay",
              "size": 10,
              "solidity": 0.2
             }
            },
            "type": "barpolar"
           }
          ],
          "carpet": [
           {
            "aaxis": {
             "endlinecolor": "#2a3f5f",
             "gridcolor": "white",
             "linecolor": "white",
             "minorgridcolor": "white",
             "startlinecolor": "#2a3f5f"
            },
            "baxis": {
             "endlinecolor": "#2a3f5f",
             "gridcolor": "white",
             "linecolor": "white",
             "minorgridcolor": "white",
             "startlinecolor": "#2a3f5f"
            },
            "type": "carpet"
           }
          ],
          "choropleth": [
           {
            "colorbar": {
             "outlinewidth": 0,
             "ticks": ""
            },
            "type": "choropleth"
           }
          ],
          "contour": [
           {
            "colorbar": {
             "outlinewidth": 0,
             "ticks": ""
            },
            "colorscale": [
             [
              0,
              "#0d0887"
             ],
             [
              0.1111111111111111,
              "#46039f"
             ],
             [
              0.2222222222222222,
              "#7201a8"
             ],
             [
              0.3333333333333333,
              "#9c179e"
             ],
             [
              0.4444444444444444,
              "#bd3786"
             ],
             [
              0.5555555555555556,
              "#d8576b"
             ],
             [
              0.6666666666666666,
              "#ed7953"
             ],
             [
              0.7777777777777778,
              "#fb9f3a"
             ],
             [
              0.8888888888888888,
              "#fdca26"
             ],
             [
              1,
              "#f0f921"
             ]
            ],
            "type": "contour"
           }
          ],
          "contourcarpet": [
           {
            "colorbar": {
             "outlinewidth": 0,
             "ticks": ""
            },
            "type": "contourcarpet"
           }
          ],
          "heatmap": [
           {
            "colorbar": {
             "outlinewidth": 0,
             "ticks": ""
            },
            "colorscale": [
             [
              0,
              "#0d0887"
             ],
             [
              0.1111111111111111,
              "#46039f"
             ],
             [
              0.2222222222222222,
              "#7201a8"
             ],
             [
              0.3333333333333333,
              "#9c179e"
             ],
             [
              0.4444444444444444,
              "#bd3786"
             ],
             [
              0.5555555555555556,
              "#d8576b"
             ],
             [
              0.6666666666666666,
              "#ed7953"
             ],
             [
              0.7777777777777778,
              "#fb9f3a"
             ],
             [
              0.8888888888888888,
              "#fdca26"
             ],
             [
              1,
              "#f0f921"
             ]
            ],
            "type": "heatmap"
           }
          ],
          "heatmapgl": [
           {
            "colorbar": {
             "outlinewidth": 0,
             "ticks": ""
            },
            "colorscale": [
             [
              0,
              "#0d0887"
             ],
             [
              0.1111111111111111,
              "#46039f"
             ],
             [
              0.2222222222222222,
              "#7201a8"
             ],
             [
              0.3333333333333333,
              "#9c179e"
             ],
             [
              0.4444444444444444,
              "#bd3786"
             ],
             [
              0.5555555555555556,
              "#d8576b"
             ],
             [
              0.6666666666666666,
              "#ed7953"
             ],
             [
              0.7777777777777778,
              "#fb9f3a"
             ],
             [
              0.8888888888888888,
              "#fdca26"
             ],
             [
              1,
              "#f0f921"
             ]
            ],
            "type": "heatmapgl"
           }
          ],
          "histogram": [
           {
            "marker": {
             "pattern": {
              "fillmode": "overlay",
              "size": 10,
              "solidity": 0.2
             }
            },
            "type": "histogram"
           }
          ],
          "histogram2d": [
           {
            "colorbar": {
             "outlinewidth": 0,
             "ticks": ""
            },
            "colorscale": [
             [
              0,
              "#0d0887"
             ],
             [
              0.1111111111111111,
              "#46039f"
             ],
             [
              0.2222222222222222,
              "#7201a8"
             ],
             [
              0.3333333333333333,
              "#9c179e"
             ],
             [
              0.4444444444444444,
              "#bd3786"
             ],
             [
              0.5555555555555556,
              "#d8576b"
             ],
             [
              0.6666666666666666,
              "#ed7953"
             ],
             [
              0.7777777777777778,
              "#fb9f3a"
             ],
             [
              0.8888888888888888,
              "#fdca26"
             ],
             [
              1,
              "#f0f921"
             ]
            ],
            "type": "histogram2d"
           }
          ],
          "histogram2dcontour": [
           {
            "colorbar": {
             "outlinewidth": 0,
             "ticks": ""
            },
            "colorscale": [
             [
              0,
              "#0d0887"
             ],
             [
              0.1111111111111111,
              "#46039f"
             ],
             [
              0.2222222222222222,
              "#7201a8"
             ],
             [
              0.3333333333333333,
              "#9c179e"
             ],
             [
              0.4444444444444444,
              "#bd3786"
             ],
             [
              0.5555555555555556,
              "#d8576b"
             ],
             [
              0.6666666666666666,
              "#ed7953"
             ],
             [
              0.7777777777777778,
              "#fb9f3a"
             ],
             [
              0.8888888888888888,
              "#fdca26"
             ],
             [
              1,
              "#f0f921"
             ]
            ],
            "type": "histogram2dcontour"
           }
          ],
          "mesh3d": [
           {
            "colorbar": {
             "outlinewidth": 0,
             "ticks": ""
            },
            "type": "mesh3d"
           }
          ],
          "parcoords": [
           {
            "line": {
             "colorbar": {
              "outlinewidth": 0,
              "ticks": ""
             }
            },
            "type": "parcoords"
           }
          ],
          "pie": [
           {
            "automargin": true,
            "type": "pie"
           }
          ],
          "scatter": [
           {
            "fillpattern": {
             "fillmode": "overlay",
             "size": 10,
             "solidity": 0.2
            },
            "type": "scatter"
           }
          ],
          "scatter3d": [
           {
            "line": {
             "colorbar": {
              "outlinewidth": 0,
              "ticks": ""
             }
            },
            "marker": {
             "colorbar": {
              "outlinewidth": 0,
              "ticks": ""
             }
            },
            "type": "scatter3d"
           }
          ],
          "scattercarpet": [
           {
            "marker": {
             "colorbar": {
              "outlinewidth": 0,
              "ticks": ""
             }
            },
            "type": "scattercarpet"
           }
          ],
          "scattergeo": [
           {
            "marker": {
             "colorbar": {
              "outlinewidth": 0,
              "ticks": ""
             }
            },
            "type": "scattergeo"
           }
          ],
          "scattergl": [
           {
            "marker": {
             "colorbar": {
              "outlinewidth": 0,
              "ticks": ""
             }
            },
            "type": "scattergl"
           }
          ],
          "scattermapbox": [
           {
            "marker": {
             "colorbar": {
              "outlinewidth": 0,
              "ticks": ""
             }
            },
            "type": "scattermapbox"
           }
          ],
          "scatterpolar": [
           {
            "marker": {
             "colorbar": {
              "outlinewidth": 0,
              "ticks": ""
             }
            },
            "type": "scatterpolar"
           }
          ],
          "scatterpolargl": [
           {
            "marker": {
             "colorbar": {
              "outlinewidth": 0,
              "ticks": ""
             }
            },
            "type": "scatterpolargl"
           }
          ],
          "scatterternary": [
           {
            "marker": {
             "colorbar": {
              "outlinewidth": 0,
              "ticks": ""
             }
            },
            "type": "scatterternary"
           }
          ],
          "surface": [
           {
            "colorbar": {
             "outlinewidth": 0,
             "ticks": ""
            },
            "colorscale": [
             [
              0,
              "#0d0887"
             ],
             [
              0.1111111111111111,
              "#46039f"
             ],
             [
              0.2222222222222222,
              "#7201a8"
             ],
             [
              0.3333333333333333,
              "#9c179e"
             ],
             [
              0.4444444444444444,
              "#bd3786"
             ],
             [
              0.5555555555555556,
              "#d8576b"
             ],
             [
              0.6666666666666666,
              "#ed7953"
             ],
             [
              0.7777777777777778,
              "#fb9f3a"
             ],
             [
              0.8888888888888888,
              "#fdca26"
             ],
             [
              1,
              "#f0f921"
             ]
            ],
            "type": "surface"
           }
          ],
          "table": [
           {
            "cells": {
             "fill": {
              "color": "#EBF0F8"
             },
             "line": {
              "color": "white"
             }
            },
            "header": {
             "fill": {
              "color": "#C8D4E3"
             },
             "line": {
              "color": "white"
             }
            },
            "type": "table"
           }
          ]
         },
         "layout": {
          "annotationdefaults": {
           "arrowcolor": "#2a3f5f",
           "arrowhead": 0,
           "arrowwidth": 1
          },
          "autotypenumbers": "strict",
          "coloraxis": {
           "colorbar": {
            "outlinewidth": 0,
            "ticks": ""
           }
          },
          "colorscale": {
           "diverging": [
            [
             0,
             "#8e0152"
            ],
            [
             0.1,
             "#c51b7d"
            ],
            [
             0.2,
             "#de77ae"
            ],
            [
             0.3,
             "#f1b6da"
            ],
            [
             0.4,
             "#fde0ef"
            ],
            [
             0.5,
             "#f7f7f7"
            ],
            [
             0.6,
             "#e6f5d0"
            ],
            [
             0.7,
             "#b8e186"
            ],
            [
             0.8,
             "#7fbc41"
            ],
            [
             0.9,
             "#4d9221"
            ],
            [
             1,
             "#276419"
            ]
           ],
           "sequential": [
            [
             0,
             "#0d0887"
            ],
            [
             0.1111111111111111,
             "#46039f"
            ],
            [
             0.2222222222222222,
             "#7201a8"
            ],
            [
             0.3333333333333333,
             "#9c179e"
            ],
            [
             0.4444444444444444,
             "#bd3786"
            ],
            [
             0.5555555555555556,
             "#d8576b"
            ],
            [
             0.6666666666666666,
             "#ed7953"
            ],
            [
             0.7777777777777778,
             "#fb9f3a"
            ],
            [
             0.8888888888888888,
             "#fdca26"
            ],
            [
             1,
             "#f0f921"
            ]
           ],
           "sequentialminus": [
            [
             0,
             "#0d0887"
            ],
            [
             0.1111111111111111,
             "#46039f"
            ],
            [
             0.2222222222222222,
             "#7201a8"
            ],
            [
             0.3333333333333333,
             "#9c179e"
            ],
            [
             0.4444444444444444,
             "#bd3786"
            ],
            [
             0.5555555555555556,
             "#d8576b"
            ],
            [
             0.6666666666666666,
             "#ed7953"
            ],
            [
             0.7777777777777778,
             "#fb9f3a"
            ],
            [
             0.8888888888888888,
             "#fdca26"
            ],
            [
             1,
             "#f0f921"
            ]
           ]
          },
          "colorway": [
           "#636efa",
           "#EF553B",
           "#00cc96",
           "#ab63fa",
           "#FFA15A",
           "#19d3f3",
           "#FF6692",
           "#B6E880",
           "#FF97FF",
           "#FECB52"
          ],
          "font": {
           "color": "#2a3f5f"
          },
          "geo": {
           "bgcolor": "white",
           "lakecolor": "white",
           "landcolor": "#E5ECF6",
           "showlakes": true,
           "showland": true,
           "subunitcolor": "white"
          },
          "hoverlabel": {
           "align": "left"
          },
          "hovermode": "closest",
          "mapbox": {
           "style": "light"
          },
          "paper_bgcolor": "white",
          "plot_bgcolor": "#E5ECF6",
          "polar": {
           "angularaxis": {
            "gridcolor": "white",
            "linecolor": "white",
            "ticks": ""
           },
           "bgcolor": "#E5ECF6",
           "radialaxis": {
            "gridcolor": "white",
            "linecolor": "white",
            "ticks": ""
           }
          },
          "scene": {
           "xaxis": {
            "backgroundcolor": "#E5ECF6",
            "gridcolor": "white",
            "gridwidth": 2,
            "linecolor": "white",
            "showbackground": true,
            "ticks": "",
            "zerolinecolor": "white"
           },
           "yaxis": {
            "backgroundcolor": "#E5ECF6",
            "gridcolor": "white",
            "gridwidth": 2,
            "linecolor": "white",
            "showbackground": true,
            "ticks": "",
            "zerolinecolor": "white"
           },
           "zaxis": {
            "backgroundcolor": "#E5ECF6",
            "gridcolor": "white",
            "gridwidth": 2,
            "linecolor": "white",
            "showbackground": true,
            "ticks": "",
            "zerolinecolor": "white"
           }
          },
          "shapedefaults": {
           "line": {
            "color": "#2a3f5f"
           }
          },
          "ternary": {
           "aaxis": {
            "gridcolor": "white",
            "linecolor": "white",
            "ticks": ""
           },
           "baxis": {
            "gridcolor": "white",
            "linecolor": "white",
            "ticks": ""
           },
           "bgcolor": "#E5ECF6",
           "caxis": {
            "gridcolor": "white",
            "linecolor": "white",
            "ticks": ""
           }
          },
          "title": {
           "x": 0.05
          },
          "xaxis": {
           "automargin": true,
           "gridcolor": "white",
           "linecolor": "white",
           "ticks": "",
           "title": {
            "standoff": 15
           },
           "zerolinecolor": "white",
           "zerolinewidth": 2
          },
          "yaxis": {
           "automargin": true,
           "gridcolor": "white",
           "linecolor": "white",
           "ticks": "",
           "title": {
            "standoff": 15
           },
           "zerolinecolor": "white",
           "zerolinewidth": 2
          }
         }
        },
        "title": {
         "text": "Percentage differences over time with respect to the first year of the datasets"
        },
        "width": 1500,
        "xaxis": {
         "anchor": "y",
         "domain": [
          0,
          1
         ],
         "title": {
          "text": "Year"
         }
        },
        "yaxis": {
         "anchor": "x",
         "domain": [
          0,
          1
         ],
         "range": [
          -50,
          100
         ],
         "title": {
          "text": "Percentage Difference"
         }
        }
       }
      }
     },
     "metadata": {},
     "output_type": "display_data"
    }
   ],
   "source": [
    "### QUESTION 1\n",
    "import plotly.express as px\n",
    "import plotly.graph_objects as go\n",
    "from plotly.subplots import make_subplots\n",
    "\n",
    "## First dataset\n",
    "#Percentage (%) differences between fuel prices with respect to the first year in the dataset (2006)\n",
    "fuel_data['Benzine Price Diff (%)'] = ((fuel_data['Benzine'] - fuel_data['Benzine'].iloc[0]) / fuel_data['Benzine'].iloc[0]) * 100\n",
    "fuel_data['Diesel Price Diff (%)'] = ((fuel_data['Diesel'] - fuel_data['Diesel'].iloc[0]) / fuel_data['Diesel'].iloc[0]) * 100\n",
    "fuel_data['Lpg Price Diff (%)'] = ((fuel_data['Lpg'] - fuel_data['Lpg'].iloc[0]) / fuel_data['Lpg'].iloc[0]) * 100\n",
    "\n",
    "## Second dataset\n",
    "#filtering the data so only the value \"inkomend transport; totaal\" is given\n",
    "transport_data_filtered = transport_data[(transport_data['Goederenstromen'] == 'Inkomend transport; totaal')]\n",
    "\n",
    "#Percentage (%) differences between \"Inkomend transport; totaal\" with respect to the first year in the dataset (2007)\n",
    "transport_data_filtered['Transport Inkomend Diff (%)'] = ((transport_data_filtered['1000 kg'] - transport_data_filtered['1000 kg'].iloc[0]) / transport_data_filtered['1000 kg'].iloc[0]) * 100\n",
    "\n",
    "## Creating the plot\n",
    "# Subplot for shared x-axis \n",
    "Figure = make_subplots(rows = 1, cols = 1, shared_xaxes = True,\n",
    "                    subplot_titles = ['Fuel and Incoming Transport Differences'])\n",
    "\n",
    "# Add annotations for first dataset, with three different columns\n",
    "for i in ['Benzine Price Diff (%)', 'Diesel Price Diff (%)', 'Lpg Price Diff (%)']:\n",
    "    Figure.add_trace(go.Scatter(x = fuel_data['Perioden'], \n",
    "                                y = fuel_data[i], \n",
    "                                mode = 'lines+text', \n",
    "                                name = i,\n",
    "                                text = fuel_data[i].round(1).astype(str) + '%',\n",
    "                                textposition = \"top center\"))\n",
    "\n",
    "# Add annontations for second dataset\n",
    "Figure.add_trace(go.Scatter(x = transport_data_filtered['Perioden'], \n",
    "                            y = transport_data_filtered['Transport Inkomend Diff (%)'], \n",
    "                            mode = 'lines+text', \n",
    "                            name = 'Transport Inkomend Diff (%)',\n",
    "                            text = transport_data_filtered['Transport Inkomend Diff (%)'].round(1).astype(str) + '%',\n",
    "                            textposition = \"top center\"))\n",
    "\n",
    "# Update the layout of the figure + add title + set height and width for the figure\n",
    "Figure.update_layout(title_text = 'Percentage differences over time with respect to the first year of the datasets',\n",
    "                        xaxis_title = 'Year',\n",
    "                        yaxis_title = 'Percentage Difference',\n",
    "                        yaxis_range = [-50, 100],\n",
    "                        height = 750,\n",
    "                        width = 1500)\n",
    "\n",
    "Figure.show()\n"
   ]
  },
  {
   "cell_type": "code",
   "execution_count": 8,
   "metadata": {},
   "outputs": [
    {
     "name": "stderr",
     "output_type": "stream",
     "text": [
      "C:\\Users\\olivi\\AppData\\Local\\Temp\\ipykernel_20552\\3096625976.py:17: SettingWithCopyWarning:\n",
      "\n",
      "\n",
      "A value is trying to be set on a copy of a slice from a DataFrame.\n",
      "Try using .loc[row_indexer,col_indexer] = value instead\n",
      "\n",
      "See the caveats in the documentation: https://pandas.pydata.org/pandas-docs/stable/user_guide/indexing.html#returning-a-view-versus-a-copy\n",
      "\n"
     ]
    },
    {
     "data": {
      "application/vnd.plotly.v1+json": {
       "config": {
        "plotlyServerURL": "https://plot.ly"
       },
       "data": [
        {
         "mode": "lines+text",
         "name": "Benzine Price Diff (%)",
         "text": [
          "0.0%",
          "3.0%",
          "7.5%",
          "-1.4%",
          "9.5%",
          "19.4%",
          "28.0%",
          "26.4%",
          "23.4%",
          "13.4%",
          "7.5%",
          "13.0%",
          "17.8%",
          "20.0%",
          "13.7%",
          "32.1%",
          "50.9%",
          "39.0%"
         ],
         "textposition": "top center",
         "type": "scatter",
         "x": [
          2006,
          2007,
          2008,
          2009,
          2010,
          2011,
          2012,
          2013,
          2014,
          2015,
          2016,
          2017,
          2018,
          2019,
          2020,
          2021,
          2022,
          2023
         ],
         "y": [
          0,
          2.978425418663384,
          7.510525250954042,
          -1.4013303061619453,
          9.461573144893237,
          19.41492863669553,
          28.044884363583517,
          26.385669083349626,
          23.402256014109053,
          13.436331642852299,
          7.548725748489369,
          12.998016910130511,
          17.81588786165454,
          19.96835834473842,
          13.718901944141484,
          32.14560747588969,
          50.88341267022851,
          39.01822704006159
         ]
        },
        {
         "mode": "lines+text",
         "name": "Diesel Price Diff (%)",
         "text": [
          "0.0%",
          "1.6%",
          "19.0%",
          "-2.9%",
          "12.2%",
          "29.2%",
          "38.4%",
          "36.2%",
          "34.3%",
          "17.9%",
          "8.7%",
          "17.0%",
          "28.0%",
          "30.0%",
          "18.6%",
          "40.1%",
          "87.5%",
          "61.7%"
         ],
         "textposition": "top center",
         "type": "scatter",
         "x": [
          2006,
          2007,
          2008,
          2009,
          2010,
          2011,
          2012,
          2013,
          2014,
          2015,
          2016,
          2017,
          2018,
          2019,
          2020,
          2021,
          2022,
          2023
         ],
         "y": [
          0,
          1.5825743489542194,
          18.989759171459482,
          -2.9027869696301307,
          12.23409284296114,
          29.215120859727072,
          38.41407697528385,
          36.177029823621474,
          34.30241719454162,
          17.924112067063746,
          8.698917195488772,
          17.0028258380343,
          28.01702856302459,
          30.025842236298878,
          18.5764702414462,
          40.067021734791425,
          87.49041421112894,
          61.67928585993978
         ]
        },
        {
         "mode": "lines+text",
         "name": "Lpg Price Diff (%)",
         "text": [
          "0.0%",
          "3.4%",
          "15.0%",
          "-2.1%",
          "23.8%",
          "34.6%",
          "47.7%",
          "40.6%",
          "45.5%",
          "18.9%",
          "9.8%",
          "21.5%",
          "31.7%",
          "21.6%",
          "16.2%",
          "50.4%",
          "78.5%",
          "49.8%"
         ],
         "textposition": "top center",
         "type": "scatter",
         "x": [
          2006,
          2007,
          2008,
          2009,
          2010,
          2011,
          2012,
          2013,
          2014,
          2015,
          2016,
          2017,
          2018,
          2019,
          2020,
          2021,
          2022,
          2023
         ],
         "y": [
          0,
          3.4183445190156565,
          15.045774645355275,
          -2.1129095933675326,
          23.783655744176883,
          34.561916041584404,
          47.669120972920645,
          40.576391630477694,
          45.52072641136991,
          18.91933149098566,
          9.763759539830158,
          21.538623503092523,
          31.687853664955927,
          21.613370180286875,
          16.247902909284154,
          50.41558099749969,
          78.54454533491248,
          49.83525267882393
         ]
        },
        {
         "mode": "lines+text",
         "name": "Inbound Transit Diff (%)",
         "text": [
          "0.0%",
          "-11.4%",
          "-19.9%",
          "-22.0%",
          "-12.2%",
          "-30.4%",
          "-33.6%",
          "-23.0%",
          "-2.3%",
          "-7.4%",
          "15.0%",
          "12.0%",
          "17.5%",
          "88.4%",
          "93.1%"
         ],
         "textposition": "top center",
         "type": "scatter",
         "x": [
          2007,
          2008,
          2009,
          2010,
          2011,
          2012,
          2013,
          2014,
          2015,
          2016,
          2017,
          2018,
          2019,
          2020,
          2021
         ],
         "y": [
          0,
          -11.429368104141943,
          -19.93785629254469,
          -21.970523920331512,
          -12.173702365860928,
          -30.414175823649526,
          -33.579277100027106,
          -22.96669415925516,
          -2.3127519430783465,
          -7.398199760524044,
          15.021872140262204,
          11.958137975358257,
          17.49544496097586,
          88.43217593358472,
          93.07319465591885
         ]
        }
       ],
       "layout": {
        "annotations": [
         {
          "font": {
           "size": 16
          },
          "showarrow": false,
          "text": "Fuel and Inbound Transit Differences",
          "x": 0.5,
          "xanchor": "center",
          "xref": "paper",
          "y": 1,
          "yanchor": "bottom",
          "yref": "paper"
         }
        ],
        "height": 750,
        "template": {
         "data": {
          "bar": [
           {
            "error_x": {
             "color": "#2a3f5f"
            },
            "error_y": {
             "color": "#2a3f5f"
            },
            "marker": {
             "line": {
              "color": "#E5ECF6",
              "width": 0.5
             },
             "pattern": {
              "fillmode": "overlay",
              "size": 10,
              "solidity": 0.2
             }
            },
            "type": "bar"
           }
          ],
          "barpolar": [
           {
            "marker": {
             "line": {
              "color": "#E5ECF6",
              "width": 0.5
             },
             "pattern": {
              "fillmode": "overlay",
              "size": 10,
              "solidity": 0.2
             }
            },
            "type": "barpolar"
           }
          ],
          "carpet": [
           {
            "aaxis": {
             "endlinecolor": "#2a3f5f",
             "gridcolor": "white",
             "linecolor": "white",
             "minorgridcolor": "white",
             "startlinecolor": "#2a3f5f"
            },
            "baxis": {
             "endlinecolor": "#2a3f5f",
             "gridcolor": "white",
             "linecolor": "white",
             "minorgridcolor": "white",
             "startlinecolor": "#2a3f5f"
            },
            "type": "carpet"
           }
          ],
          "choropleth": [
           {
            "colorbar": {
             "outlinewidth": 0,
             "ticks": ""
            },
            "type": "choropleth"
           }
          ],
          "contour": [
           {
            "colorbar": {
             "outlinewidth": 0,
             "ticks": ""
            },
            "colorscale": [
             [
              0,
              "#0d0887"
             ],
             [
              0.1111111111111111,
              "#46039f"
             ],
             [
              0.2222222222222222,
              "#7201a8"
             ],
             [
              0.3333333333333333,
              "#9c179e"
             ],
             [
              0.4444444444444444,
              "#bd3786"
             ],
             [
              0.5555555555555556,
              "#d8576b"
             ],
             [
              0.6666666666666666,
              "#ed7953"
             ],
             [
              0.7777777777777778,
              "#fb9f3a"
             ],
             [
              0.8888888888888888,
              "#fdca26"
             ],
             [
              1,
              "#f0f921"
             ]
            ],
            "type": "contour"
           }
          ],
          "contourcarpet": [
           {
            "colorbar": {
             "outlinewidth": 0,
             "ticks": ""
            },
            "type": "contourcarpet"
           }
          ],
          "heatmap": [
           {
            "colorbar": {
             "outlinewidth": 0,
             "ticks": ""
            },
            "colorscale": [
             [
              0,
              "#0d0887"
             ],
             [
              0.1111111111111111,
              "#46039f"
             ],
             [
              0.2222222222222222,
              "#7201a8"
             ],
             [
              0.3333333333333333,
              "#9c179e"
             ],
             [
              0.4444444444444444,
              "#bd3786"
             ],
             [
              0.5555555555555556,
              "#d8576b"
             ],
             [
              0.6666666666666666,
              "#ed7953"
             ],
             [
              0.7777777777777778,
              "#fb9f3a"
             ],
             [
              0.8888888888888888,
              "#fdca26"
             ],
             [
              1,
              "#f0f921"
             ]
            ],
            "type": "heatmap"
           }
          ],
          "heatmapgl": [
           {
            "colorbar": {
             "outlinewidth": 0,
             "ticks": ""
            },
            "colorscale": [
             [
              0,
              "#0d0887"
             ],
             [
              0.1111111111111111,
              "#46039f"
             ],
             [
              0.2222222222222222,
              "#7201a8"
             ],
             [
              0.3333333333333333,
              "#9c179e"
             ],
             [
              0.4444444444444444,
              "#bd3786"
             ],
             [
              0.5555555555555556,
              "#d8576b"
             ],
             [
              0.6666666666666666,
              "#ed7953"
             ],
             [
              0.7777777777777778,
              "#fb9f3a"
             ],
             [
              0.8888888888888888,
              "#fdca26"
             ],
             [
              1,
              "#f0f921"
             ]
            ],
            "type": "heatmapgl"
           }
          ],
          "histogram": [
           {
            "marker": {
             "pattern": {
              "fillmode": "overlay",
              "size": 10,
              "solidity": 0.2
             }
            },
            "type": "histogram"
           }
          ],
          "histogram2d": [
           {
            "colorbar": {
             "outlinewidth": 0,
             "ticks": ""
            },
            "colorscale": [
             [
              0,
              "#0d0887"
             ],
             [
              0.1111111111111111,
              "#46039f"
             ],
             [
              0.2222222222222222,
              "#7201a8"
             ],
             [
              0.3333333333333333,
              "#9c179e"
             ],
             [
              0.4444444444444444,
              "#bd3786"
             ],
             [
              0.5555555555555556,
              "#d8576b"
             ],
             [
              0.6666666666666666,
              "#ed7953"
             ],
             [
              0.7777777777777778,
              "#fb9f3a"
             ],
             [
              0.8888888888888888,
              "#fdca26"
             ],
             [
              1,
              "#f0f921"
             ]
            ],
            "type": "histogram2d"
           }
          ],
          "histogram2dcontour": [
           {
            "colorbar": {
             "outlinewidth": 0,
             "ticks": ""
            },
            "colorscale": [
             [
              0,
              "#0d0887"
             ],
             [
              0.1111111111111111,
              "#46039f"
             ],
             [
              0.2222222222222222,
              "#7201a8"
             ],
             [
              0.3333333333333333,
              "#9c179e"
             ],
             [
              0.4444444444444444,
              "#bd3786"
             ],
             [
              0.5555555555555556,
              "#d8576b"
             ],
             [
              0.6666666666666666,
              "#ed7953"
             ],
             [
              0.7777777777777778,
              "#fb9f3a"
             ],
             [
              0.8888888888888888,
              "#fdca26"
             ],
             [
              1,
              "#f0f921"
             ]
            ],
            "type": "histogram2dcontour"
           }
          ],
          "mesh3d": [
           {
            "colorbar": {
             "outlinewidth": 0,
             "ticks": ""
            },
            "type": "mesh3d"
           }
          ],
          "parcoords": [
           {
            "line": {
             "colorbar": {
              "outlinewidth": 0,
              "ticks": ""
             }
            },
            "type": "parcoords"
           }
          ],
          "pie": [
           {
            "automargin": true,
            "type": "pie"
           }
          ],
          "scatter": [
           {
            "fillpattern": {
             "fillmode": "overlay",
             "size": 10,
             "solidity": 0.2
            },
            "type": "scatter"
           }
          ],
          "scatter3d": [
           {
            "line": {
             "colorbar": {
              "outlinewidth": 0,
              "ticks": ""
             }
            },
            "marker": {
             "colorbar": {
              "outlinewidth": 0,
              "ticks": ""
             }
            },
            "type": "scatter3d"
           }
          ],
          "scattercarpet": [
           {
            "marker": {
             "colorbar": {
              "outlinewidth": 0,
              "ticks": ""
             }
            },
            "type": "scattercarpet"
           }
          ],
          "scattergeo": [
           {
            "marker": {
             "colorbar": {
              "outlinewidth": 0,
              "ticks": ""
             }
            },
            "type": "scattergeo"
           }
          ],
          "scattergl": [
           {
            "marker": {
             "colorbar": {
              "outlinewidth": 0,
              "ticks": ""
             }
            },
            "type": "scattergl"
           }
          ],
          "scattermapbox": [
           {
            "marker": {
             "colorbar": {
              "outlinewidth": 0,
              "ticks": ""
             }
            },
            "type": "scattermapbox"
           }
          ],
          "scatterpolar": [
           {
            "marker": {
             "colorbar": {
              "outlinewidth": 0,
              "ticks": ""
             }
            },
            "type": "scatterpolar"
           }
          ],
          "scatterpolargl": [
           {
            "marker": {
             "colorbar": {
              "outlinewidth": 0,
              "ticks": ""
             }
            },
            "type": "scatterpolargl"
           }
          ],
          "scatterternary": [
           {
            "marker": {
             "colorbar": {
              "outlinewidth": 0,
              "ticks": ""
             }
            },
            "type": "scatterternary"
           }
          ],
          "surface": [
           {
            "colorbar": {
             "outlinewidth": 0,
             "ticks": ""
            },
            "colorscale": [
             [
              0,
              "#0d0887"
             ],
             [
              0.1111111111111111,
              "#46039f"
             ],
             [
              0.2222222222222222,
              "#7201a8"
             ],
             [
              0.3333333333333333,
              "#9c179e"
             ],
             [
              0.4444444444444444,
              "#bd3786"
             ],
             [
              0.5555555555555556,
              "#d8576b"
             ],
             [
              0.6666666666666666,
              "#ed7953"
             ],
             [
              0.7777777777777778,
              "#fb9f3a"
             ],
             [
              0.8888888888888888,
              "#fdca26"
             ],
             [
              1,
              "#f0f921"
             ]
            ],
            "type": "surface"
           }
          ],
          "table": [
           {
            "cells": {
             "fill": {
              "color": "#EBF0F8"
             },
             "line": {
              "color": "white"
             }
            },
            "header": {
             "fill": {
              "color": "#C8D4E3"
             },
             "line": {
              "color": "white"
             }
            },
            "type": "table"
           }
          ]
         },
         "layout": {
          "annotationdefaults": {
           "arrowcolor": "#2a3f5f",
           "arrowhead": 0,
           "arrowwidth": 1
          },
          "autotypenumbers": "strict",
          "coloraxis": {
           "colorbar": {
            "outlinewidth": 0,
            "ticks": ""
           }
          },
          "colorscale": {
           "diverging": [
            [
             0,
             "#8e0152"
            ],
            [
             0.1,
             "#c51b7d"
            ],
            [
             0.2,
             "#de77ae"
            ],
            [
             0.3,
             "#f1b6da"
            ],
            [
             0.4,
             "#fde0ef"
            ],
            [
             0.5,
             "#f7f7f7"
            ],
            [
             0.6,
             "#e6f5d0"
            ],
            [
             0.7,
             "#b8e186"
            ],
            [
             0.8,
             "#7fbc41"
            ],
            [
             0.9,
             "#4d9221"
            ],
            [
             1,
             "#276419"
            ]
           ],
           "sequential": [
            [
             0,
             "#0d0887"
            ],
            [
             0.1111111111111111,
             "#46039f"
            ],
            [
             0.2222222222222222,
             "#7201a8"
            ],
            [
             0.3333333333333333,
             "#9c179e"
            ],
            [
             0.4444444444444444,
             "#bd3786"
            ],
            [
             0.5555555555555556,
             "#d8576b"
            ],
            [
             0.6666666666666666,
             "#ed7953"
            ],
            [
             0.7777777777777778,
             "#fb9f3a"
            ],
            [
             0.8888888888888888,
             "#fdca26"
            ],
            [
             1,
             "#f0f921"
            ]
           ],
           "sequentialminus": [
            [
             0,
             "#0d0887"
            ],
            [
             0.1111111111111111,
             "#46039f"
            ],
            [
             0.2222222222222222,
             "#7201a8"
            ],
            [
             0.3333333333333333,
             "#9c179e"
            ],
            [
             0.4444444444444444,
             "#bd3786"
            ],
            [
             0.5555555555555556,
             "#d8576b"
            ],
            [
             0.6666666666666666,
             "#ed7953"
            ],
            [
             0.7777777777777778,
             "#fb9f3a"
            ],
            [
             0.8888888888888888,
             "#fdca26"
            ],
            [
             1,
             "#f0f921"
            ]
           ]
          },
          "colorway": [
           "#636efa",
           "#EF553B",
           "#00cc96",
           "#ab63fa",
           "#FFA15A",
           "#19d3f3",
           "#FF6692",
           "#B6E880",
           "#FF97FF",
           "#FECB52"
          ],
          "font": {
           "color": "#2a3f5f"
          },
          "geo": {
           "bgcolor": "white",
           "lakecolor": "white",
           "landcolor": "#E5ECF6",
           "showlakes": true,
           "showland": true,
           "subunitcolor": "white"
          },
          "hoverlabel": {
           "align": "left"
          },
          "hovermode": "closest",
          "mapbox": {
           "style": "light"
          },
          "paper_bgcolor": "white",
          "plot_bgcolor": "#E5ECF6",
          "polar": {
           "angularaxis": {
            "gridcolor": "white",
            "linecolor": "white",
            "ticks": ""
           },
           "bgcolor": "#E5ECF6",
           "radialaxis": {
            "gridcolor": "white",
            "linecolor": "white",
            "ticks": ""
           }
          },
          "scene": {
           "xaxis": {
            "backgroundcolor": "#E5ECF6",
            "gridcolor": "white",
            "gridwidth": 2,
            "linecolor": "white",
            "showbackground": true,
            "ticks": "",
            "zerolinecolor": "white"
           },
           "yaxis": {
            "backgroundcolor": "#E5ECF6",
            "gridcolor": "white",
            "gridwidth": 2,
            "linecolor": "white",
            "showbackground": true,
            "ticks": "",
            "zerolinecolor": "white"
           },
           "zaxis": {
            "backgroundcolor": "#E5ECF6",
            "gridcolor": "white",
            "gridwidth": 2,
            "linecolor": "white",
            "showbackground": true,
            "ticks": "",
            "zerolinecolor": "white"
           }
          },
          "shapedefaults": {
           "line": {
            "color": "#2a3f5f"
           }
          },
          "ternary": {
           "aaxis": {
            "gridcolor": "white",
            "linecolor": "white",
            "ticks": ""
           },
           "baxis": {
            "gridcolor": "white",
            "linecolor": "white",
            "ticks": ""
           },
           "bgcolor": "#E5ECF6",
           "caxis": {
            "gridcolor": "white",
            "linecolor": "white",
            "ticks": ""
           }
          },
          "title": {
           "x": 0.05
          },
          "xaxis": {
           "automargin": true,
           "gridcolor": "white",
           "linecolor": "white",
           "ticks": "",
           "title": {
            "standoff": 15
           },
           "zerolinecolor": "white",
           "zerolinewidth": 2
          },
          "yaxis": {
           "automargin": true,
           "gridcolor": "white",
           "linecolor": "white",
           "ticks": "",
           "title": {
            "standoff": 15
           },
           "zerolinecolor": "white",
           "zerolinewidth": 2
          }
         }
        },
        "title": {
         "text": "Percentage differences over time with respect to the first year of the datasets"
        },
        "width": 1500,
        "xaxis": {
         "anchor": "y",
         "domain": [
          0,
          1
         ],
         "title": {
          "text": "Year"
         }
        },
        "yaxis": {
         "anchor": "x",
         "domain": [
          0,
          1
         ],
         "range": [
          -50,
          100
         ],
         "title": {
          "text": "Percentage Difference"
         }
        }
       }
      }
     },
     "metadata": {},
     "output_type": "display_data"
    }
   ],
   "source": [
    "### QUESTION 2a\n",
    "import plotly.express as px\n",
    "import plotly.graph_objects as go\n",
    "from plotly.subplots import make_subplots\n",
    "\n",
    "## First dataset\n",
    "#Percentage (%) differences between fuel prices with respect to the first year in the dataset (2006)\n",
    "fuel_data['Benzine Price Diff (%)'] = ((fuel_data['Benzine'] - fuel_data['Benzine'].iloc[0]) / fuel_data['Benzine'].iloc[0]) * 100\n",
    "fuel_data['Diesel Price Diff (%)'] = ((fuel_data['Diesel'] - fuel_data['Diesel'].iloc[0]) / fuel_data['Diesel'].iloc[0]) * 100\n",
    "fuel_data['Lpg Price Diff (%)'] = ((fuel_data['Lpg'] - fuel_data['Lpg'].iloc[0]) / fuel_data['Lpg'].iloc[0]) * 100\n",
    "\n",
    "## Second dataset\n",
    "#filtering the data so only the value \"Inkomende doorvoer; totaal\" is given\n",
    "transport_data_filtered = transport_data[(transport_data['Goederenstromen'] == 'Inkomende doorvoer; totaal')]\n",
    "\n",
    "#Percentage (%) differences between \"Inkomende doorvoer; totaal\" with respect to the first year in the dataset (2007)\n",
    "transport_data_filtered['Inbound Transit Diff (%)'] = ((transport_data_filtered['1000 kg'] - transport_data_filtered['1000 kg'].iloc[0]) / transport_data_filtered['1000 kg'].iloc[0]) * 100\n",
    "\n",
    "## Creating the plot\n",
    "# Subplot for shared x-axis \n",
    "Figure = make_subplots(rows = 1, cols = 1, shared_xaxes = True,\n",
    "                    subplot_titles = ['Fuel and Inbound Transit Differences'])\n",
    "\n",
    "# Add annotations for first dataset, with three different columns\n",
    "for i in ['Benzine Price Diff (%)', 'Diesel Price Diff (%)', 'Lpg Price Diff (%)']:\n",
    "    Figure.add_trace(go.Scatter(x = fuel_data['Perioden'], \n",
    "                                y = fuel_data[i], \n",
    "                                mode = 'lines+text', \n",
    "                                name = i,\n",
    "                                text = fuel_data[i].round(1).astype(str) + '%',\n",
    "                                textposition = \"top center\"))\n",
    "\n",
    "# Add annontations for second dataset\n",
    "Figure.add_trace(go.Scatter(x = transport_data_filtered['Perioden'], \n",
    "                            y = transport_data_filtered['Inbound Transit Diff (%)'], \n",
    "                            mode = 'lines+text', \n",
    "                            name = 'Inbound Transit Diff (%)',\n",
    "                            text = transport_data_filtered['Inbound Transit Diff (%)'].round(1).astype(str) + '%',\n",
    "                            textposition = \"top center\"))\n",
    "\n",
    "# Update the layout of the figure + add title + set height and width for the figure\n",
    "Figure.update_layout(title_text = 'Percentage differences over time with respect to the first year of the datasets',\n",
    "                        xaxis_title = 'Year',\n",
    "                        yaxis_title = 'Percentage Difference',\n",
    "                        yaxis_range = [-50, 100],\n",
    "                        height = 750,\n",
    "                        width = 1500)\n",
    "\n",
    "Figure.show()"
   ]
  },
  {
   "cell_type": "code",
   "execution_count": 9,
   "metadata": {},
   "outputs": [
    {
     "name": "stderr",
     "output_type": "stream",
     "text": [
      "C:\\Users\\olivi\\AppData\\Local\\Temp\\ipykernel_20552\\1539126517.py:17: SettingWithCopyWarning:\n",
      "\n",
      "\n",
      "A value is trying to be set on a copy of a slice from a DataFrame.\n",
      "Try using .loc[row_indexer,col_indexer] = value instead\n",
      "\n",
      "See the caveats in the documentation: https://pandas.pydata.org/pandas-docs/stable/user_guide/indexing.html#returning-a-view-versus-a-copy\n",
      "\n"
     ]
    },
    {
     "data": {
      "application/vnd.plotly.v1+json": {
       "config": {
        "plotlyServerURL": "https://plot.ly"
       },
       "data": [
        {
         "mode": "lines+text",
         "name": "Benzine Price Diff (%)",
         "text": [
          "0.0%",
          "3.0%",
          "7.5%",
          "-1.4%",
          "9.5%",
          "19.4%",
          "28.0%",
          "26.4%",
          "23.4%",
          "13.4%",
          "7.5%",
          "13.0%",
          "17.8%",
          "20.0%",
          "13.7%",
          "32.1%",
          "50.9%",
          "39.0%"
         ],
         "textposition": "top center",
         "type": "scatter",
         "x": [
          2006,
          2007,
          2008,
          2009,
          2010,
          2011,
          2012,
          2013,
          2014,
          2015,
          2016,
          2017,
          2018,
          2019,
          2020,
          2021,
          2022,
          2023
         ],
         "y": [
          0,
          2.978425418663384,
          7.510525250954042,
          -1.4013303061619453,
          9.461573144893237,
          19.41492863669553,
          28.044884363583517,
          26.385669083349626,
          23.402256014109053,
          13.436331642852299,
          7.548725748489369,
          12.998016910130511,
          17.81588786165454,
          19.96835834473842,
          13.718901944141484,
          32.14560747588969,
          50.88341267022851,
          39.01822704006159
         ]
        },
        {
         "mode": "lines+text",
         "name": "Diesel Price Diff (%)",
         "text": [
          "0.0%",
          "1.6%",
          "19.0%",
          "-2.9%",
          "12.2%",
          "29.2%",
          "38.4%",
          "36.2%",
          "34.3%",
          "17.9%",
          "8.7%",
          "17.0%",
          "28.0%",
          "30.0%",
          "18.6%",
          "40.1%",
          "87.5%",
          "61.7%"
         ],
         "textposition": "top center",
         "type": "scatter",
         "x": [
          2006,
          2007,
          2008,
          2009,
          2010,
          2011,
          2012,
          2013,
          2014,
          2015,
          2016,
          2017,
          2018,
          2019,
          2020,
          2021,
          2022,
          2023
         ],
         "y": [
          0,
          1.5825743489542194,
          18.989759171459482,
          -2.9027869696301307,
          12.23409284296114,
          29.215120859727072,
          38.41407697528385,
          36.177029823621474,
          34.30241719454162,
          17.924112067063746,
          8.698917195488772,
          17.0028258380343,
          28.01702856302459,
          30.025842236298878,
          18.5764702414462,
          40.067021734791425,
          87.49041421112894,
          61.67928585993978
         ]
        },
        {
         "mode": "lines+text",
         "name": "Lpg Price Diff (%)",
         "text": [
          "0.0%",
          "3.4%",
          "15.0%",
          "-2.1%",
          "23.8%",
          "34.6%",
          "47.7%",
          "40.6%",
          "45.5%",
          "18.9%",
          "9.8%",
          "21.5%",
          "31.7%",
          "21.6%",
          "16.2%",
          "50.4%",
          "78.5%",
          "49.8%"
         ],
         "textposition": "top center",
         "type": "scatter",
         "x": [
          2006,
          2007,
          2008,
          2009,
          2010,
          2011,
          2012,
          2013,
          2014,
          2015,
          2016,
          2017,
          2018,
          2019,
          2020,
          2021,
          2022,
          2023
         ],
         "y": [
          0,
          3.4183445190156565,
          15.045774645355275,
          -2.1129095933675326,
          23.783655744176883,
          34.561916041584404,
          47.669120972920645,
          40.576391630477694,
          45.52072641136991,
          18.91933149098566,
          9.763759539830158,
          21.538623503092523,
          31.687853664955927,
          21.613370180286875,
          16.247902909284154,
          50.41558099749969,
          78.54454533491248,
          49.83525267882393
         ]
        },
        {
         "mode": "lines+text",
         "name": "Outbound Transit Diff (%)",
         "text": [
          "0.0%",
          "-12.1%",
          "-22.0%",
          "-41.3%",
          "-29.1%",
          "-44.0%",
          "-49.7%",
          "-31.4%",
          "-12.7%",
          "-32.8%",
          "-8.2%",
          "-16.6%",
          "-5.6%",
          "29.8%",
          "51.9%"
         ],
         "textposition": "top center",
         "type": "scatter",
         "x": [
          2007,
          2008,
          2009,
          2010,
          2011,
          2012,
          2013,
          2014,
          2015,
          2016,
          2017,
          2018,
          2019,
          2020,
          2021
         ],
         "y": [
          0,
          -12.140357828599177,
          -22.0336515367104,
          -41.292348614786114,
          -29.14533178041126,
          -44.007943029805695,
          -49.70925467739986,
          -31.372705767002433,
          -12.65567770720997,
          -32.82068643591419,
          -8.170280101395639,
          -16.619057809714523,
          -5.6487319835136915,
          29.84203646630452,
          51.90373085832377
         ]
        }
       ],
       "layout": {
        "annotations": [
         {
          "font": {
           "size": 16
          },
          "showarrow": false,
          "text": "Fuel and Outbound Transit Differences",
          "x": 0.5,
          "xanchor": "center",
          "xref": "paper",
          "y": 1,
          "yanchor": "bottom",
          "yref": "paper"
         }
        ],
        "height": 750,
        "template": {
         "data": {
          "bar": [
           {
            "error_x": {
             "color": "#2a3f5f"
            },
            "error_y": {
             "color": "#2a3f5f"
            },
            "marker": {
             "line": {
              "color": "#E5ECF6",
              "width": 0.5
             },
             "pattern": {
              "fillmode": "overlay",
              "size": 10,
              "solidity": 0.2
             }
            },
            "type": "bar"
           }
          ],
          "barpolar": [
           {
            "marker": {
             "line": {
              "color": "#E5ECF6",
              "width": 0.5
             },
             "pattern": {
              "fillmode": "overlay",
              "size": 10,
              "solidity": 0.2
             }
            },
            "type": "barpolar"
           }
          ],
          "carpet": [
           {
            "aaxis": {
             "endlinecolor": "#2a3f5f",
             "gridcolor": "white",
             "linecolor": "white",
             "minorgridcolor": "white",
             "startlinecolor": "#2a3f5f"
            },
            "baxis": {
             "endlinecolor": "#2a3f5f",
             "gridcolor": "white",
             "linecolor": "white",
             "minorgridcolor": "white",
             "startlinecolor": "#2a3f5f"
            },
            "type": "carpet"
           }
          ],
          "choropleth": [
           {
            "colorbar": {
             "outlinewidth": 0,
             "ticks": ""
            },
            "type": "choropleth"
           }
          ],
          "contour": [
           {
            "colorbar": {
             "outlinewidth": 0,
             "ticks": ""
            },
            "colorscale": [
             [
              0,
              "#0d0887"
             ],
             [
              0.1111111111111111,
              "#46039f"
             ],
             [
              0.2222222222222222,
              "#7201a8"
             ],
             [
              0.3333333333333333,
              "#9c179e"
             ],
             [
              0.4444444444444444,
              "#bd3786"
             ],
             [
              0.5555555555555556,
              "#d8576b"
             ],
             [
              0.6666666666666666,
              "#ed7953"
             ],
             [
              0.7777777777777778,
              "#fb9f3a"
             ],
             [
              0.8888888888888888,
              "#fdca26"
             ],
             [
              1,
              "#f0f921"
             ]
            ],
            "type": "contour"
           }
          ],
          "contourcarpet": [
           {
            "colorbar": {
             "outlinewidth": 0,
             "ticks": ""
            },
            "type": "contourcarpet"
           }
          ],
          "heatmap": [
           {
            "colorbar": {
             "outlinewidth": 0,
             "ticks": ""
            },
            "colorscale": [
             [
              0,
              "#0d0887"
             ],
             [
              0.1111111111111111,
              "#46039f"
             ],
             [
              0.2222222222222222,
              "#7201a8"
             ],
             [
              0.3333333333333333,
              "#9c179e"
             ],
             [
              0.4444444444444444,
              "#bd3786"
             ],
             [
              0.5555555555555556,
              "#d8576b"
             ],
             [
              0.6666666666666666,
              "#ed7953"
             ],
             [
              0.7777777777777778,
              "#fb9f3a"
             ],
             [
              0.8888888888888888,
              "#fdca26"
             ],
             [
              1,
              "#f0f921"
             ]
            ],
            "type": "heatmap"
           }
          ],
          "heatmapgl": [
           {
            "colorbar": {
             "outlinewidth": 0,
             "ticks": ""
            },
            "colorscale": [
             [
              0,
              "#0d0887"
             ],
             [
              0.1111111111111111,
              "#46039f"
             ],
             [
              0.2222222222222222,
              "#7201a8"
             ],
             [
              0.3333333333333333,
              "#9c179e"
             ],
             [
              0.4444444444444444,
              "#bd3786"
             ],
             [
              0.5555555555555556,
              "#d8576b"
             ],
             [
              0.6666666666666666,
              "#ed7953"
             ],
             [
              0.7777777777777778,
              "#fb9f3a"
             ],
             [
              0.8888888888888888,
              "#fdca26"
             ],
             [
              1,
              "#f0f921"
             ]
            ],
            "type": "heatmapgl"
           }
          ],
          "histogram": [
           {
            "marker": {
             "pattern": {
              "fillmode": "overlay",
              "size": 10,
              "solidity": 0.2
             }
            },
            "type": "histogram"
           }
          ],
          "histogram2d": [
           {
            "colorbar": {
             "outlinewidth": 0,
             "ticks": ""
            },
            "colorscale": [
             [
              0,
              "#0d0887"
             ],
             [
              0.1111111111111111,
              "#46039f"
             ],
             [
              0.2222222222222222,
              "#7201a8"
             ],
             [
              0.3333333333333333,
              "#9c179e"
             ],
             [
              0.4444444444444444,
              "#bd3786"
             ],
             [
              0.5555555555555556,
              "#d8576b"
             ],
             [
              0.6666666666666666,
              "#ed7953"
             ],
             [
              0.7777777777777778,
              "#fb9f3a"
             ],
             [
              0.8888888888888888,
              "#fdca26"
             ],
             [
              1,
              "#f0f921"
             ]
            ],
            "type": "histogram2d"
           }
          ],
          "histogram2dcontour": [
           {
            "colorbar": {
             "outlinewidth": 0,
             "ticks": ""
            },
            "colorscale": [
             [
              0,
              "#0d0887"
             ],
             [
              0.1111111111111111,
              "#46039f"
             ],
             [
              0.2222222222222222,
              "#7201a8"
             ],
             [
              0.3333333333333333,
              "#9c179e"
             ],
             [
              0.4444444444444444,
              "#bd3786"
             ],
             [
              0.5555555555555556,
              "#d8576b"
             ],
             [
              0.6666666666666666,
              "#ed7953"
             ],
             [
              0.7777777777777778,
              "#fb9f3a"
             ],
             [
              0.8888888888888888,
              "#fdca26"
             ],
             [
              1,
              "#f0f921"
             ]
            ],
            "type": "histogram2dcontour"
           }
          ],
          "mesh3d": [
           {
            "colorbar": {
             "outlinewidth": 0,
             "ticks": ""
            },
            "type": "mesh3d"
           }
          ],
          "parcoords": [
           {
            "line": {
             "colorbar": {
              "outlinewidth": 0,
              "ticks": ""
             }
            },
            "type": "parcoords"
           }
          ],
          "pie": [
           {
            "automargin": true,
            "type": "pie"
           }
          ],
          "scatter": [
           {
            "fillpattern": {
             "fillmode": "overlay",
             "size": 10,
             "solidity": 0.2
            },
            "type": "scatter"
           }
          ],
          "scatter3d": [
           {
            "line": {
             "colorbar": {
              "outlinewidth": 0,
              "ticks": ""
             }
            },
            "marker": {
             "colorbar": {
              "outlinewidth": 0,
              "ticks": ""
             }
            },
            "type": "scatter3d"
           }
          ],
          "scattercarpet": [
           {
            "marker": {
             "colorbar": {
              "outlinewidth": 0,
              "ticks": ""
             }
            },
            "type": "scattercarpet"
           }
          ],
          "scattergeo": [
           {
            "marker": {
             "colorbar": {
              "outlinewidth": 0,
              "ticks": ""
             }
            },
            "type": "scattergeo"
           }
          ],
          "scattergl": [
           {
            "marker": {
             "colorbar": {
              "outlinewidth": 0,
              "ticks": ""
             }
            },
            "type": "scattergl"
           }
          ],
          "scattermapbox": [
           {
            "marker": {
             "colorbar": {
              "outlinewidth": 0,
              "ticks": ""
             }
            },
            "type": "scattermapbox"
           }
          ],
          "scatterpolar": [
           {
            "marker": {
             "colorbar": {
              "outlinewidth": 0,
              "ticks": ""
             }
            },
            "type": "scatterpolar"
           }
          ],
          "scatterpolargl": [
           {
            "marker": {
             "colorbar": {
              "outlinewidth": 0,
              "ticks": ""
             }
            },
            "type": "scatterpolargl"
           }
          ],
          "scatterternary": [
           {
            "marker": {
             "colorbar": {
              "outlinewidth": 0,
              "ticks": ""
             }
            },
            "type": "scatterternary"
           }
          ],
          "surface": [
           {
            "colorbar": {
             "outlinewidth": 0,
             "ticks": ""
            },
            "colorscale": [
             [
              0,
              "#0d0887"
             ],
             [
              0.1111111111111111,
              "#46039f"
             ],
             [
              0.2222222222222222,
              "#7201a8"
             ],
             [
              0.3333333333333333,
              "#9c179e"
             ],
             [
              0.4444444444444444,
              "#bd3786"
             ],
             [
              0.5555555555555556,
              "#d8576b"
             ],
             [
              0.6666666666666666,
              "#ed7953"
             ],
             [
              0.7777777777777778,
              "#fb9f3a"
             ],
             [
              0.8888888888888888,
              "#fdca26"
             ],
             [
              1,
              "#f0f921"
             ]
            ],
            "type": "surface"
           }
          ],
          "table": [
           {
            "cells": {
             "fill": {
              "color": "#EBF0F8"
             },
             "line": {
              "color": "white"
             }
            },
            "header": {
             "fill": {
              "color": "#C8D4E3"
             },
             "line": {
              "color": "white"
             }
            },
            "type": "table"
           }
          ]
         },
         "layout": {
          "annotationdefaults": {
           "arrowcolor": "#2a3f5f",
           "arrowhead": 0,
           "arrowwidth": 1
          },
          "autotypenumbers": "strict",
          "coloraxis": {
           "colorbar": {
            "outlinewidth": 0,
            "ticks": ""
           }
          },
          "colorscale": {
           "diverging": [
            [
             0,
             "#8e0152"
            ],
            [
             0.1,
             "#c51b7d"
            ],
            [
             0.2,
             "#de77ae"
            ],
            [
             0.3,
             "#f1b6da"
            ],
            [
             0.4,
             "#fde0ef"
            ],
            [
             0.5,
             "#f7f7f7"
            ],
            [
             0.6,
             "#e6f5d0"
            ],
            [
             0.7,
             "#b8e186"
            ],
            [
             0.8,
             "#7fbc41"
            ],
            [
             0.9,
             "#4d9221"
            ],
            [
             1,
             "#276419"
            ]
           ],
           "sequential": [
            [
             0,
             "#0d0887"
            ],
            [
             0.1111111111111111,
             "#46039f"
            ],
            [
             0.2222222222222222,
             "#7201a8"
            ],
            [
             0.3333333333333333,
             "#9c179e"
            ],
            [
             0.4444444444444444,
             "#bd3786"
            ],
            [
             0.5555555555555556,
             "#d8576b"
            ],
            [
             0.6666666666666666,
             "#ed7953"
            ],
            [
             0.7777777777777778,
             "#fb9f3a"
            ],
            [
             0.8888888888888888,
             "#fdca26"
            ],
            [
             1,
             "#f0f921"
            ]
           ],
           "sequentialminus": [
            [
             0,
             "#0d0887"
            ],
            [
             0.1111111111111111,
             "#46039f"
            ],
            [
             0.2222222222222222,
             "#7201a8"
            ],
            [
             0.3333333333333333,
             "#9c179e"
            ],
            [
             0.4444444444444444,
             "#bd3786"
            ],
            [
             0.5555555555555556,
             "#d8576b"
            ],
            [
             0.6666666666666666,
             "#ed7953"
            ],
            [
             0.7777777777777778,
             "#fb9f3a"
            ],
            [
             0.8888888888888888,
             "#fdca26"
            ],
            [
             1,
             "#f0f921"
            ]
           ]
          },
          "colorway": [
           "#636efa",
           "#EF553B",
           "#00cc96",
           "#ab63fa",
           "#FFA15A",
           "#19d3f3",
           "#FF6692",
           "#B6E880",
           "#FF97FF",
           "#FECB52"
          ],
          "font": {
           "color": "#2a3f5f"
          },
          "geo": {
           "bgcolor": "white",
           "lakecolor": "white",
           "landcolor": "#E5ECF6",
           "showlakes": true,
           "showland": true,
           "subunitcolor": "white"
          },
          "hoverlabel": {
           "align": "left"
          },
          "hovermode": "closest",
          "mapbox": {
           "style": "light"
          },
          "paper_bgcolor": "white",
          "plot_bgcolor": "#E5ECF6",
          "polar": {
           "angularaxis": {
            "gridcolor": "white",
            "linecolor": "white",
            "ticks": ""
           },
           "bgcolor": "#E5ECF6",
           "radialaxis": {
            "gridcolor": "white",
            "linecolor": "white",
            "ticks": ""
           }
          },
          "scene": {
           "xaxis": {
            "backgroundcolor": "#E5ECF6",
            "gridcolor": "white",
            "gridwidth": 2,
            "linecolor": "white",
            "showbackground": true,
            "ticks": "",
            "zerolinecolor": "white"
           },
           "yaxis": {
            "backgroundcolor": "#E5ECF6",
            "gridcolor": "white",
            "gridwidth": 2,
            "linecolor": "white",
            "showbackground": true,
            "ticks": "",
            "zerolinecolor": "white"
           },
           "zaxis": {
            "backgroundcolor": "#E5ECF6",
            "gridcolor": "white",
            "gridwidth": 2,
            "linecolor": "white",
            "showbackground": true,
            "ticks": "",
            "zerolinecolor": "white"
           }
          },
          "shapedefaults": {
           "line": {
            "color": "#2a3f5f"
           }
          },
          "ternary": {
           "aaxis": {
            "gridcolor": "white",
            "linecolor": "white",
            "ticks": ""
           },
           "baxis": {
            "gridcolor": "white",
            "linecolor": "white",
            "ticks": ""
           },
           "bgcolor": "#E5ECF6",
           "caxis": {
            "gridcolor": "white",
            "linecolor": "white",
            "ticks": ""
           }
          },
          "title": {
           "x": 0.05
          },
          "xaxis": {
           "automargin": true,
           "gridcolor": "white",
           "linecolor": "white",
           "ticks": "",
           "title": {
            "standoff": 15
           },
           "zerolinecolor": "white",
           "zerolinewidth": 2
          },
          "yaxis": {
           "automargin": true,
           "gridcolor": "white",
           "linecolor": "white",
           "ticks": "",
           "title": {
            "standoff": 15
           },
           "zerolinecolor": "white",
           "zerolinewidth": 2
          }
         }
        },
        "title": {
         "text": "Percentage differences over time with respect to the first year of the datasets"
        },
        "width": 1500,
        "xaxis": {
         "anchor": "y",
         "domain": [
          0,
          1
         ],
         "title": {
          "text": "Year"
         }
        },
        "yaxis": {
         "anchor": "x",
         "domain": [
          0,
          1
         ],
         "range": [
          -50,
          100
         ],
         "title": {
          "text": "Percentage Difference"
         }
        }
       }
      }
     },
     "metadata": {},
     "output_type": "display_data"
    }
   ],
   "source": [
    "### QUESTION 2b\n",
    "import plotly.express as px\n",
    "import plotly.graph_objects as go\n",
    "from plotly.subplots import make_subplots\n",
    "\n",
    "## First dataset\n",
    "#Percentage (%) differences between fuel prices with respect to the first year in the dataset (2006)\n",
    "fuel_data['Benzine Price Diff (%)'] = ((fuel_data['Benzine'] - fuel_data['Benzine'].iloc[0]) / fuel_data['Benzine'].iloc[0]) * 100\n",
    "fuel_data['Diesel Price Diff (%)'] = ((fuel_data['Diesel'] - fuel_data['Diesel'].iloc[0]) / fuel_data['Diesel'].iloc[0]) * 100\n",
    "fuel_data['Lpg Price Diff (%)'] = ((fuel_data['Lpg'] - fuel_data['Lpg'].iloc[0]) / fuel_data['Lpg'].iloc[0]) * 100\n",
    "\n",
    "## Second dataset\n",
    "#filtering the data so only the value \"Uitgaande doorvoer; totaal\" is given\n",
    "transport_data_filtered = transport_data[(transport_data['Goederenstromen'] == 'Uitgaande doorvoer; totaal')]\n",
    "\n",
    "#Percentage (%) differences between \"Uitgaande doorvoer; totaal\" with respect to the first year in the dataset (2007)\n",
    "transport_data_filtered['Outbound Transit Diff (%)'] = ((transport_data_filtered['1000 kg'] - transport_data_filtered['1000 kg'].iloc[0]) / transport_data_filtered['1000 kg'].iloc[0]) * 100\n",
    "\n",
    "## Creating the plot\n",
    "# Subplot for shared x-axis \n",
    "Figure = make_subplots(rows = 1, cols = 1, shared_xaxes = True,\n",
    "                    subplot_titles = ['Fuel and Outbound Transit Differences'])\n",
    "\n",
    "# Add annotations for first dataset, with three different columns\n",
    "for i in ['Benzine Price Diff (%)', 'Diesel Price Diff (%)', 'Lpg Price Diff (%)']:\n",
    "    Figure.add_trace(go.Scatter(x = fuel_data['Perioden'], \n",
    "                                y = fuel_data[i], \n",
    "                                mode = 'lines+text', \n",
    "                                name = i,\n",
    "                                text = fuel_data[i].round(1).astype(str) + '%',\n",
    "                                textposition = \"top center\"))\n",
    "\n",
    "# Add annontations for second dataset\n",
    "Figure.add_trace(go.Scatter(x = transport_data_filtered['Perioden'], \n",
    "                            y = transport_data_filtered['Outbound Transit Diff (%)'], \n",
    "                            mode = 'lines+text', \n",
    "                            name = 'Outbound Transit Diff (%)',\n",
    "                            text = transport_data_filtered['Outbound Transit Diff (%)'].round(1).astype(str) + '%',\n",
    "                            textposition = \"top center\"))\n",
    "\n",
    "# Update the layout of the figure + add title + set height and width for the figure\n",
    "Figure.update_layout(title_text = 'Percentage differences over time with respect to the first year of the datasets',\n",
    "                        xaxis_title = 'Year',\n",
    "                        yaxis_title = 'Percentage Difference',\n",
    "                        yaxis_range = [-50, 100],\n",
    "                        height = 750,\n",
    "                        width = 1500)\n",
    "\n",
    "Figure.show()"
   ]
  },
  {
   "cell_type": "code",
   "execution_count": 10,
   "metadata": {},
   "outputs": [
    {
     "name": "stderr",
     "output_type": "stream",
     "text": [
      "C:\\Users\\olivi\\AppData\\Local\\Temp\\ipykernel_20552\\3157685575.py:17: SettingWithCopyWarning:\n",
      "\n",
      "\n",
      "A value is trying to be set on a copy of a slice from a DataFrame.\n",
      "Try using .loc[row_indexer,col_indexer] = value instead\n",
      "\n",
      "See the caveats in the documentation: https://pandas.pydata.org/pandas-docs/stable/user_guide/indexing.html#returning-a-view-versus-a-copy\n",
      "\n"
     ]
    },
    {
     "data": {
      "application/vnd.plotly.v1+json": {
       "config": {
        "plotlyServerURL": "https://plot.ly"
       },
       "data": [
        {
         "mode": "lines+text",
         "name": "Benzine Price Diff (%)",
         "text": [
          "0.0%",
          "3.0%",
          "7.5%",
          "-1.4%",
          "9.5%",
          "19.4%",
          "28.0%",
          "26.4%",
          "23.4%",
          "13.4%",
          "7.5%",
          "13.0%",
          "17.8%",
          "20.0%",
          "13.7%",
          "32.1%",
          "50.9%",
          "39.0%"
         ],
         "textposition": "top center",
         "type": "scatter",
         "x": [
          2006,
          2007,
          2008,
          2009,
          2010,
          2011,
          2012,
          2013,
          2014,
          2015,
          2016,
          2017,
          2018,
          2019,
          2020,
          2021,
          2022,
          2023
         ],
         "y": [
          0,
          2.978425418663384,
          7.510525250954042,
          -1.4013303061619453,
          9.461573144893237,
          19.41492863669553,
          28.044884363583517,
          26.385669083349626,
          23.402256014109053,
          13.436331642852299,
          7.548725748489369,
          12.998016910130511,
          17.81588786165454,
          19.96835834473842,
          13.718901944141484,
          32.14560747588969,
          50.88341267022851,
          39.01822704006159
         ]
        },
        {
         "mode": "lines+text",
         "name": "Diesel Price Diff (%)",
         "text": [
          "0.0%",
          "1.6%",
          "19.0%",
          "-2.9%",
          "12.2%",
          "29.2%",
          "38.4%",
          "36.2%",
          "34.3%",
          "17.9%",
          "8.7%",
          "17.0%",
          "28.0%",
          "30.0%",
          "18.6%",
          "40.1%",
          "87.5%",
          "61.7%"
         ],
         "textposition": "top center",
         "type": "scatter",
         "x": [
          2006,
          2007,
          2008,
          2009,
          2010,
          2011,
          2012,
          2013,
          2014,
          2015,
          2016,
          2017,
          2018,
          2019,
          2020,
          2021,
          2022,
          2023
         ],
         "y": [
          0,
          1.5825743489542194,
          18.989759171459482,
          -2.9027869696301307,
          12.23409284296114,
          29.215120859727072,
          38.41407697528385,
          36.177029823621474,
          34.30241719454162,
          17.924112067063746,
          8.698917195488772,
          17.0028258380343,
          28.01702856302459,
          30.025842236298878,
          18.5764702414462,
          40.067021734791425,
          87.49041421112894,
          61.67928585993978
         ]
        },
        {
         "mode": "lines+text",
         "name": "Lpg Price Diff (%)",
         "text": [
          "0.0%",
          "3.4%",
          "15.0%",
          "-2.1%",
          "23.8%",
          "34.6%",
          "47.7%",
          "40.6%",
          "45.5%",
          "18.9%",
          "9.8%",
          "21.5%",
          "31.7%",
          "21.6%",
          "16.2%",
          "50.4%",
          "78.5%",
          "49.8%"
         ],
         "textposition": "top center",
         "type": "scatter",
         "x": [
          2006,
          2007,
          2008,
          2009,
          2010,
          2011,
          2012,
          2013,
          2014,
          2015,
          2016,
          2017,
          2018,
          2019,
          2020,
          2021,
          2022,
          2023
         ],
         "y": [
          0,
          3.4183445190156565,
          15.045774645355275,
          -2.1129095933675326,
          23.783655744176883,
          34.561916041584404,
          47.669120972920645,
          40.576391630477694,
          45.52072641136991,
          18.91933149098566,
          9.763759539830158,
          21.538623503092523,
          31.687853664955927,
          21.613370180286875,
          16.247902909284154,
          50.41558099749969,
          78.54454533491248,
          49.83525267882393
         ]
        },
        {
         "mode": "lines+text",
         "name": "Outgoing Transport Diff (%)",
         "text": [
          "0.0%",
          "-2.1%",
          "-9.9%",
          "-10.9%",
          "-9.4%",
          "-11.8%",
          "-6.4%",
          "-11.7%",
          "-15.1%",
          "-4.9%",
          "-7.0%",
          "-10.1%",
          "0.6%",
          "-7.6%",
          "-7.5%"
         ],
         "textposition": "top center",
         "type": "scatter",
         "x": [
          2007,
          2008,
          2009,
          2010,
          2011,
          2012,
          2013,
          2014,
          2015,
          2016,
          2017,
          2018,
          2019,
          2020,
          2021
         ],
         "y": [
          0,
          -2.1040747546855427,
          -9.910189336558666,
          -10.91791374461814,
          -9.374744162889435,
          -11.82403455640487,
          -6.409997603251577,
          -11.675543847958437,
          -15.087648111364777,
          -4.901007648422063,
          -7.048100796155941,
          -10.09804641973263,
          0.6402073483355394,
          -7.583557227009825,
          -7.484804512750164
         ]
        }
       ],
       "layout": {
        "annotations": [
         {
          "font": {
           "size": 16
          },
          "showarrow": false,
          "text": "Fuel and Outgoing Transport Differences",
          "x": 0.5,
          "xanchor": "center",
          "xref": "paper",
          "y": 1,
          "yanchor": "bottom",
          "yref": "paper"
         }
        ],
        "height": 750,
        "template": {
         "data": {
          "bar": [
           {
            "error_x": {
             "color": "#2a3f5f"
            },
            "error_y": {
             "color": "#2a3f5f"
            },
            "marker": {
             "line": {
              "color": "#E5ECF6",
              "width": 0.5
             },
             "pattern": {
              "fillmode": "overlay",
              "size": 10,
              "solidity": 0.2
             }
            },
            "type": "bar"
           }
          ],
          "barpolar": [
           {
            "marker": {
             "line": {
              "color": "#E5ECF6",
              "width": 0.5
             },
             "pattern": {
              "fillmode": "overlay",
              "size": 10,
              "solidity": 0.2
             }
            },
            "type": "barpolar"
           }
          ],
          "carpet": [
           {
            "aaxis": {
             "endlinecolor": "#2a3f5f",
             "gridcolor": "white",
             "linecolor": "white",
             "minorgridcolor": "white",
             "startlinecolor": "#2a3f5f"
            },
            "baxis": {
             "endlinecolor": "#2a3f5f",
             "gridcolor": "white",
             "linecolor": "white",
             "minorgridcolor": "white",
             "startlinecolor": "#2a3f5f"
            },
            "type": "carpet"
           }
          ],
          "choropleth": [
           {
            "colorbar": {
             "outlinewidth": 0,
             "ticks": ""
            },
            "type": "choropleth"
           }
          ],
          "contour": [
           {
            "colorbar": {
             "outlinewidth": 0,
             "ticks": ""
            },
            "colorscale": [
             [
              0,
              "#0d0887"
             ],
             [
              0.1111111111111111,
              "#46039f"
             ],
             [
              0.2222222222222222,
              "#7201a8"
             ],
             [
              0.3333333333333333,
              "#9c179e"
             ],
             [
              0.4444444444444444,
              "#bd3786"
             ],
             [
              0.5555555555555556,
              "#d8576b"
             ],
             [
              0.6666666666666666,
              "#ed7953"
             ],
             [
              0.7777777777777778,
              "#fb9f3a"
             ],
             [
              0.8888888888888888,
              "#fdca26"
             ],
             [
              1,
              "#f0f921"
             ]
            ],
            "type": "contour"
           }
          ],
          "contourcarpet": [
           {
            "colorbar": {
             "outlinewidth": 0,
             "ticks": ""
            },
            "type": "contourcarpet"
           }
          ],
          "heatmap": [
           {
            "colorbar": {
             "outlinewidth": 0,
             "ticks": ""
            },
            "colorscale": [
             [
              0,
              "#0d0887"
             ],
             [
              0.1111111111111111,
              "#46039f"
             ],
             [
              0.2222222222222222,
              "#7201a8"
             ],
             [
              0.3333333333333333,
              "#9c179e"
             ],
             [
              0.4444444444444444,
              "#bd3786"
             ],
             [
              0.5555555555555556,
              "#d8576b"
             ],
             [
              0.6666666666666666,
              "#ed7953"
             ],
             [
              0.7777777777777778,
              "#fb9f3a"
             ],
             [
              0.8888888888888888,
              "#fdca26"
             ],
             [
              1,
              "#f0f921"
             ]
            ],
            "type": "heatmap"
           }
          ],
          "heatmapgl": [
           {
            "colorbar": {
             "outlinewidth": 0,
             "ticks": ""
            },
            "colorscale": [
             [
              0,
              "#0d0887"
             ],
             [
              0.1111111111111111,
              "#46039f"
             ],
             [
              0.2222222222222222,
              "#7201a8"
             ],
             [
              0.3333333333333333,
              "#9c179e"
             ],
             [
              0.4444444444444444,
              "#bd3786"
             ],
             [
              0.5555555555555556,
              "#d8576b"
             ],
             [
              0.6666666666666666,
              "#ed7953"
             ],
             [
              0.7777777777777778,
              "#fb9f3a"
             ],
             [
              0.8888888888888888,
              "#fdca26"
             ],
             [
              1,
              "#f0f921"
             ]
            ],
            "type": "heatmapgl"
           }
          ],
          "histogram": [
           {
            "marker": {
             "pattern": {
              "fillmode": "overlay",
              "size": 10,
              "solidity": 0.2
             }
            },
            "type": "histogram"
           }
          ],
          "histogram2d": [
           {
            "colorbar": {
             "outlinewidth": 0,
             "ticks": ""
            },
            "colorscale": [
             [
              0,
              "#0d0887"
             ],
             [
              0.1111111111111111,
              "#46039f"
             ],
             [
              0.2222222222222222,
              "#7201a8"
             ],
             [
              0.3333333333333333,
              "#9c179e"
             ],
             [
              0.4444444444444444,
              "#bd3786"
             ],
             [
              0.5555555555555556,
              "#d8576b"
             ],
             [
              0.6666666666666666,
              "#ed7953"
             ],
             [
              0.7777777777777778,
              "#fb9f3a"
             ],
             [
              0.8888888888888888,
              "#fdca26"
             ],
             [
              1,
              "#f0f921"
             ]
            ],
            "type": "histogram2d"
           }
          ],
          "histogram2dcontour": [
           {
            "colorbar": {
             "outlinewidth": 0,
             "ticks": ""
            },
            "colorscale": [
             [
              0,
              "#0d0887"
             ],
             [
              0.1111111111111111,
              "#46039f"
             ],
             [
              0.2222222222222222,
              "#7201a8"
             ],
             [
              0.3333333333333333,
              "#9c179e"
             ],
             [
              0.4444444444444444,
              "#bd3786"
             ],
             [
              0.5555555555555556,
              "#d8576b"
             ],
             [
              0.6666666666666666,
              "#ed7953"
             ],
             [
              0.7777777777777778,
              "#fb9f3a"
             ],
             [
              0.8888888888888888,
              "#fdca26"
             ],
             [
              1,
              "#f0f921"
             ]
            ],
            "type": "histogram2dcontour"
           }
          ],
          "mesh3d": [
           {
            "colorbar": {
             "outlinewidth": 0,
             "ticks": ""
            },
            "type": "mesh3d"
           }
          ],
          "parcoords": [
           {
            "line": {
             "colorbar": {
              "outlinewidth": 0,
              "ticks": ""
             }
            },
            "type": "parcoords"
           }
          ],
          "pie": [
           {
            "automargin": true,
            "type": "pie"
           }
          ],
          "scatter": [
           {
            "fillpattern": {
             "fillmode": "overlay",
             "size": 10,
             "solidity": 0.2
            },
            "type": "scatter"
           }
          ],
          "scatter3d": [
           {
            "line": {
             "colorbar": {
              "outlinewidth": 0,
              "ticks": ""
             }
            },
            "marker": {
             "colorbar": {
              "outlinewidth": 0,
              "ticks": ""
             }
            },
            "type": "scatter3d"
           }
          ],
          "scattercarpet": [
           {
            "marker": {
             "colorbar": {
              "outlinewidth": 0,
              "ticks": ""
             }
            },
            "type": "scattercarpet"
           }
          ],
          "scattergeo": [
           {
            "marker": {
             "colorbar": {
              "outlinewidth": 0,
              "ticks": ""
             }
            },
            "type": "scattergeo"
           }
          ],
          "scattergl": [
           {
            "marker": {
             "colorbar": {
              "outlinewidth": 0,
              "ticks": ""
             }
            },
            "type": "scattergl"
           }
          ],
          "scattermapbox": [
           {
            "marker": {
             "colorbar": {
              "outlinewidth": 0,
              "ticks": ""
             }
            },
            "type": "scattermapbox"
           }
          ],
          "scatterpolar": [
           {
            "marker": {
             "colorbar": {
              "outlinewidth": 0,
              "ticks": ""
             }
            },
            "type": "scatterpolar"
           }
          ],
          "scatterpolargl": [
           {
            "marker": {
             "colorbar": {
              "outlinewidth": 0,
              "ticks": ""
             }
            },
            "type": "scatterpolargl"
           }
          ],
          "scatterternary": [
           {
            "marker": {
             "colorbar": {
              "outlinewidth": 0,
              "ticks": ""
             }
            },
            "type": "scatterternary"
           }
          ],
          "surface": [
           {
            "colorbar": {
             "outlinewidth": 0,
             "ticks": ""
            },
            "colorscale": [
             [
              0,
              "#0d0887"
             ],
             [
              0.1111111111111111,
              "#46039f"
             ],
             [
              0.2222222222222222,
              "#7201a8"
             ],
             [
              0.3333333333333333,
              "#9c179e"
             ],
             [
              0.4444444444444444,
              "#bd3786"
             ],
             [
              0.5555555555555556,
              "#d8576b"
             ],
             [
              0.6666666666666666,
              "#ed7953"
             ],
             [
              0.7777777777777778,
              "#fb9f3a"
             ],
             [
              0.8888888888888888,
              "#fdca26"
             ],
             [
              1,
              "#f0f921"
             ]
            ],
            "type": "surface"
           }
          ],
          "table": [
           {
            "cells": {
             "fill": {
              "color": "#EBF0F8"
             },
             "line": {
              "color": "white"
             }
            },
            "header": {
             "fill": {
              "color": "#C8D4E3"
             },
             "line": {
              "color": "white"
             }
            },
            "type": "table"
           }
          ]
         },
         "layout": {
          "annotationdefaults": {
           "arrowcolor": "#2a3f5f",
           "arrowhead": 0,
           "arrowwidth": 1
          },
          "autotypenumbers": "strict",
          "coloraxis": {
           "colorbar": {
            "outlinewidth": 0,
            "ticks": ""
           }
          },
          "colorscale": {
           "diverging": [
            [
             0,
             "#8e0152"
            ],
            [
             0.1,
             "#c51b7d"
            ],
            [
             0.2,
             "#de77ae"
            ],
            [
             0.3,
             "#f1b6da"
            ],
            [
             0.4,
             "#fde0ef"
            ],
            [
             0.5,
             "#f7f7f7"
            ],
            [
             0.6,
             "#e6f5d0"
            ],
            [
             0.7,
             "#b8e186"
            ],
            [
             0.8,
             "#7fbc41"
            ],
            [
             0.9,
             "#4d9221"
            ],
            [
             1,
             "#276419"
            ]
           ],
           "sequential": [
            [
             0,
             "#0d0887"
            ],
            [
             0.1111111111111111,
             "#46039f"
            ],
            [
             0.2222222222222222,
             "#7201a8"
            ],
            [
             0.3333333333333333,
             "#9c179e"
            ],
            [
             0.4444444444444444,
             "#bd3786"
            ],
            [
             0.5555555555555556,
             "#d8576b"
            ],
            [
             0.6666666666666666,
             "#ed7953"
            ],
            [
             0.7777777777777778,
             "#fb9f3a"
            ],
            [
             0.8888888888888888,
             "#fdca26"
            ],
            [
             1,
             "#f0f921"
            ]
           ],
           "sequentialminus": [
            [
             0,
             "#0d0887"
            ],
            [
             0.1111111111111111,
             "#46039f"
            ],
            [
             0.2222222222222222,
             "#7201a8"
            ],
            [
             0.3333333333333333,
             "#9c179e"
            ],
            [
             0.4444444444444444,
             "#bd3786"
            ],
            [
             0.5555555555555556,
             "#d8576b"
            ],
            [
             0.6666666666666666,
             "#ed7953"
            ],
            [
             0.7777777777777778,
             "#fb9f3a"
            ],
            [
             0.8888888888888888,
             "#fdca26"
            ],
            [
             1,
             "#f0f921"
            ]
           ]
          },
          "colorway": [
           "#636efa",
           "#EF553B",
           "#00cc96",
           "#ab63fa",
           "#FFA15A",
           "#19d3f3",
           "#FF6692",
           "#B6E880",
           "#FF97FF",
           "#FECB52"
          ],
          "font": {
           "color": "#2a3f5f"
          },
          "geo": {
           "bgcolor": "white",
           "lakecolor": "white",
           "landcolor": "#E5ECF6",
           "showlakes": true,
           "showland": true,
           "subunitcolor": "white"
          },
          "hoverlabel": {
           "align": "left"
          },
          "hovermode": "closest",
          "mapbox": {
           "style": "light"
          },
          "paper_bgcolor": "white",
          "plot_bgcolor": "#E5ECF6",
          "polar": {
           "angularaxis": {
            "gridcolor": "white",
            "linecolor": "white",
            "ticks": ""
           },
           "bgcolor": "#E5ECF6",
           "radialaxis": {
            "gridcolor": "white",
            "linecolor": "white",
            "ticks": ""
           }
          },
          "scene": {
           "xaxis": {
            "backgroundcolor": "#E5ECF6",
            "gridcolor": "white",
            "gridwidth": 2,
            "linecolor": "white",
            "showbackground": true,
            "ticks": "",
            "zerolinecolor": "white"
           },
           "yaxis": {
            "backgroundcolor": "#E5ECF6",
            "gridcolor": "white",
            "gridwidth": 2,
            "linecolor": "white",
            "showbackground": true,
            "ticks": "",
            "zerolinecolor": "white"
           },
           "zaxis": {
            "backgroundcolor": "#E5ECF6",
            "gridcolor": "white",
            "gridwidth": 2,
            "linecolor": "white",
            "showbackground": true,
            "ticks": "",
            "zerolinecolor": "white"
           }
          },
          "shapedefaults": {
           "line": {
            "color": "#2a3f5f"
           }
          },
          "ternary": {
           "aaxis": {
            "gridcolor": "white",
            "linecolor": "white",
            "ticks": ""
           },
           "baxis": {
            "gridcolor": "white",
            "linecolor": "white",
            "ticks": ""
           },
           "bgcolor": "#E5ECF6",
           "caxis": {
            "gridcolor": "white",
            "linecolor": "white",
            "ticks": ""
           }
          },
          "title": {
           "x": 0.05
          },
          "xaxis": {
           "automargin": true,
           "gridcolor": "white",
           "linecolor": "white",
           "ticks": "",
           "title": {
            "standoff": 15
           },
           "zerolinecolor": "white",
           "zerolinewidth": 2
          },
          "yaxis": {
           "automargin": true,
           "gridcolor": "white",
           "linecolor": "white",
           "ticks": "",
           "title": {
            "standoff": 15
           },
           "zerolinecolor": "white",
           "zerolinewidth": 2
          }
         }
        },
        "title": {
         "text": "Percentage differences over time with respect to the first year of the datasets"
        },
        "width": 1500,
        "xaxis": {
         "anchor": "y",
         "domain": [
          0,
          1
         ],
         "title": {
          "text": "Year"
         }
        },
        "yaxis": {
         "anchor": "x",
         "domain": [
          0,
          1
         ],
         "range": [
          -50,
          100
         ],
         "title": {
          "text": "Percentage Difference"
         }
        }
       }
      }
     },
     "metadata": {},
     "output_type": "display_data"
    }
   ],
   "source": [
    "### QUESTION 3\n",
    "import plotly.express as px\n",
    "import plotly.graph_objects as go\n",
    "from plotly.subplots import make_subplots\n",
    "\n",
    "## First dataset\n",
    "#Percentage (%) differences between fuel prices with respect to the first year in the dataset (2006)\n",
    "fuel_data['Benzine Price Diff (%)'] = ((fuel_data['Benzine'] - fuel_data['Benzine'].iloc[0]) / fuel_data['Benzine'].iloc[0]) * 100\n",
    "fuel_data['Diesel Price Diff (%)'] = ((fuel_data['Diesel'] - fuel_data['Diesel'].iloc[0]) / fuel_data['Diesel'].iloc[0]) * 100\n",
    "fuel_data['Lpg Price Diff (%)'] = ((fuel_data['Lpg'] - fuel_data['Lpg'].iloc[0]) / fuel_data['Lpg'].iloc[0]) * 100\n",
    "\n",
    "## Second dataset\n",
    "#filtering the data so only the value \"Uitgaand transport; totaal\" is given\n",
    "transport_data_filtered = transport_data[(transport_data['Goederenstromen'] == 'Uitgaand transport; totaal')]\n",
    "\n",
    "#Percentage (%) differences between \"Uitgaand transport; totaal\" with respect to the first year in the dataset (2007)\n",
    "transport_data_filtered['Outgoing Transport Diff (%)'] = ((transport_data_filtered['1000 kg'] - transport_data_filtered['1000 kg'].iloc[0]) / transport_data_filtered['1000 kg'].iloc[0]) * 100\n",
    "\n",
    "## Creating the plot\n",
    "# Subplot for shared x-axis \n",
    "Figure = make_subplots(rows = 1, cols = 1, shared_xaxes = True,\n",
    "                    subplot_titles = ['Fuel and Outgoing Transport Differences'])\n",
    "\n",
    "# Add annotations for first dataset, with three different columns\n",
    "for i in ['Benzine Price Diff (%)', 'Diesel Price Diff (%)', 'Lpg Price Diff (%)']:\n",
    "    Figure.add_trace(go.Scatter(x = fuel_data['Perioden'], \n",
    "                                y = fuel_data[i], \n",
    "                                mode = 'lines+text', \n",
    "                                name = i,\n",
    "                                text = fuel_data[i].round(1).astype(str) + '%',\n",
    "                                textposition = \"top center\"))\n",
    "\n",
    "# Add annontations for second dataset\n",
    "Figure.add_trace(go.Scatter(x = transport_data_filtered['Perioden'], \n",
    "                            y = transport_data_filtered['Outgoing Transport Diff (%)'], \n",
    "                            mode = 'lines+text', \n",
    "                            name = 'Outgoing Transport Diff (%)',\n",
    "                            text = transport_data_filtered['Outgoing Transport Diff (%)'].round(1).astype(str) + '%',\n",
    "                            textposition = \"top center\"))\n",
    "\n",
    "# Update the layout of the figure + add title + set height and width for the figure\n",
    "Figure.update_layout(title_text = 'Percentage differences over time with respect to the first year of the datasets',\n",
    "                        xaxis_title = 'Year',\n",
    "                        yaxis_title = 'Percentage Difference',\n",
    "                        yaxis_range = [-50, 100],\n",
    "                        height = 750,\n",
    "                        width = 1500)\n",
    "\n",
    "Figure.show()"
   ]
  }
 ],
 "metadata": {
  "kernelspec": {
   "display_name": "Python 3 (ipykernel)",
   "language": "python",
   "name": "python3"
  },
  "language_info": {
   "codemirror_mode": {
    "name": "ipython",
    "version": 3
   },
   "file_extension": ".py",
   "mimetype": "text/x-python",
   "name": "python",
   "nbconvert_exporter": "python",
   "pygments_lexer": "ipython3",
   "version": "3.11.4"
  },
  "vscode": {
   "interpreter": {
    "hash": "31f2aee4e71d21fbe5cf8b01ff0e069b9275f58929596ceb00d14d90e3e16cd6"
   }
  }
 },
 "nbformat": 4,
 "nbformat_minor": 2
}
