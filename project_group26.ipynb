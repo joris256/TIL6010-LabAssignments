{
 "cells": [
  {
   "cell_type": "markdown",
   "metadata": {},
   "source": [
    "# Project Group - 26\n",
    "\n",
    "Members: Joris Veen, Frans Kraanen, Romee Hoogeveen, Jasper van Raaij, Olivier Klein Schiphorst\n",
    "\n",
    "Student numbers: 4722868, 4727282, 4850025, 5177006, 4705106"
   ]
  },
  {
   "cell_type": "markdown",
   "metadata": {},
   "source": [
    "# Research Objective\n",
    "\n",
    "*Requires data modeling and quantitative research in Transport, Infrastructure & Logistics*"
   ]
  },
  {
   "cell_type": "markdown",
   "metadata": {},
   "source": [
    "To transport goods on the road vehicles need fuel to drive. The prices of fuel can fluctuate a lot so this can lead to high or low costs for tranport companies. This research will try to find out if the prices of fuel have an influence on the road transport. The following research question is proposed:\n",
    "\n",
    "\n",
    "**Research question:** \n",
    "\n",
    "- Do fuel prices have an influence on road transport of goods expressed in tons in the Netherlands?\n",
    "\n",
    "**sub-questions:** \n",
    "\n",
    "- Does fuel price have an influence on incoming transport of goods in the Netherlands?\n",
    "- Does fuel price have an influence on throughgoing transport of goods in the Netherlands?\n",
    "- Does fuel price have an influence on outgoing transport of goods in the Netherlands?\n",
    "\n",
    "First the available data will be explored and secondly we will focus to answer our research questions. The data available is from 2007 till 2022. The data used is focussed on the Netherlands only."
   ]
  },
  {
   "cell_type": "markdown",
   "metadata": {},
   "source": [
    "# Contribution Statement\n",
    "\n",
    "*Be specific. Some of the tasks can be coding (expect everyone to do this), background research, conceptualisation, visualisation, data analysis, data modelling*"
   ]
  },
  {
   "cell_type": "markdown",
   "metadata": {},
   "source": [
    "**Author 1**:\n",
    "\n",
    "**Author 2**:\n",
    "\n",
    "**Author 3**:"
   ]
  },
  {
   "cell_type": "markdown",
   "metadata": {},
   "source": [
    "# Data Used"
   ]
  },
  {
   "cell_type": "markdown",
   "metadata": {},
   "source": [
    "- CBS: International trade and transport in the Netherlands https://opendata.cbs.nl/statline/#/CBS/nl/dataset/84668NED/table?ts=1696403890264\n",
    "- CBS: Fuel prices in the Netherlands https://opendata.cbs.nl/#/CBS/nl/dataset/80416ned/table"
   ]
  },
  {
   "cell_type": "markdown",
   "metadata": {},
   "source": [
    "# Data Pipeline"
   ]
  },
  {
   "cell_type": "markdown",
   "metadata": {},
   "source": []
  }
 ],
 "metadata": {
  "kernelspec": {
   "display_name": "Python 3 (ipykernel)",
   "language": "python",
   "name": "python3"
  },
  "language_info": {
   "codemirror_mode": {
    "name": "ipython",
    "version": 3
   },
   "file_extension": ".py",
   "mimetype": "text/x-python",
   "name": "python",
   "nbconvert_exporter": "python",
   "pygments_lexer": "ipython3",
   "version": "3.9.13"
  },
  "vscode": {
   "interpreter": {
    "hash": "31f2aee4e71d21fbe5cf8b01ff0e069b9275f58929596ceb00d14d90e3e16cd6"
   }
  }
 },
 "nbformat": 4,
 "nbformat_minor": 2
}
