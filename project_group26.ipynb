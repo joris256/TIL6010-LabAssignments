{
 "cells": [
  {
   "cell_type": "markdown",
   "metadata": {},
   "source": [
    "# Project Group - 26\n",
    "\n",
    "Members: Joris Veen, Frans Kraanen, Romee Hoogeveen, Jasper van Raaij, Olivier Klein Schiphorst\n",
    "\n",
    "Student numbers: 4722868, 4727282, 4850025, 5177006, 4705106"
   ]
  },
  {
   "cell_type": "markdown",
   "metadata": {},
   "source": [
    "# Research Objective\n",
    "\n",
    "*Requires data modeling and quantitative research in Transport, Infrastructure & Logistics*"
   ]
  },
  {
   "cell_type": "markdown",
   "metadata": {},
   "source": [
    "To transport goods on the road vehicles need fuel to drive. The prices of fuel can fluctuate a lot so this can lead to high or low costs for tranport companies. This research will try to find out if the prices of fuel have an influence on the road transport. The following research question is proposed:\n",
    "\n",
    "\n",
    "**Research question:** \n",
    "\n",
    "- How do fuel prices influence road transport of goods expressed in tons in the Netherlands?\n",
    "\n",
    "**sub-questions:** \n",
    "\n",
    "- How do fuel prices influence incoming transport of goods in the Netherlands?\n",
    "- How do fuel prices influence throughgoing transport of goods in the Netherlands?\n",
    "- How do fuel prices influence outgoing transport of goods in the Netherlands?\n",
    "\n",
    "First the available data will be explored and secondly we will focus to answer our research questions. The data available is from 2007 till 2022. The data used is focussed on the Netherlands only."
   ]
  },
  {
   "cell_type": "markdown",
   "metadata": {},
   "source": [
    "# Contribution Statement\n",
    "\n",
    "*Be specific. Some of the tasks can be coding (expect everyone to do this), background research, conceptualisation, visualisation, data analysis, data modelling*"
   ]
  },
  {
   "cell_type": "markdown",
   "metadata": {},
   "source": [
    "**Author 1**:\n",
    "\n",
    "**Author 2**:\n",
    "\n",
    "**Author 3**:"
   ]
  },
  {
   "cell_type": "markdown",
   "metadata": {},
   "source": [
    "# Data Used"
   ]
  },
  {
   "cell_type": "markdown",
   "metadata": {},
   "source": [
    "- CBS: International trade and transport in the Netherlands https://opendata.cbs.nl/statline/#/CBS/nl/dataset/84668NED/table?ts=1696403890264\n",
    "- CBS: Fuel prices in the Netherlands https://opendata.cbs.nl/#/CBS/nl/dataset/80416ned/table"
   ]
  },
  {
   "cell_type": "markdown",
   "metadata": {},
   "source": [
    "# Data Pipeline"
   ]
  },
  {
   "cell_type": "markdown",
   "metadata": {},
   "source": []
  },
  {
   "cell_type": "markdown",
   "metadata": {},
   "source": [
    "Data Preparation"
   ]
  },
  {
   "cell_type": "code",
   "execution_count": 1,
   "metadata": {},
   "outputs": [],
   "source": [
    "# import necassary libraries\n",
    "import pandas as pd\n",
    "\n",
    "#load datasets\n",
    "fuel_data = pd.read_csv('fuel_prices.csv', delimiter=';')\n",
    "transport_data = pd.read_csv('road_transport.csv', delimiter=';')"
   ]
  },
  {
   "cell_type": "code",
   "execution_count": 2,
   "metadata": {},
   "outputs": [
    {
     "data": {
      "text/html": [
       "<div>\n",
       "<style scoped>\n",
       "    .dataframe tbody tr th:only-of-type {\n",
       "        vertical-align: middle;\n",
       "    }\n",
       "\n",
       "    .dataframe tbody tr th {\n",
       "        vertical-align: top;\n",
       "    }\n",
       "\n",
       "    .dataframe thead th {\n",
       "        text-align: right;\n",
       "    }\n",
       "</style>\n",
       "<table border=\"1\" class=\"dataframe\">\n",
       "  <thead>\n",
       "    <tr style=\"text-align: right;\">\n",
       "      <th></th>\n",
       "      <th>Perioden</th>\n",
       "      <th>Benzine</th>\n",
       "      <th>Diesel</th>\n",
       "      <th>Lpg</th>\n",
       "    </tr>\n",
       "  </thead>\n",
       "  <tbody>\n",
       "    <tr>\n",
       "      <th>0</th>\n",
       "      <td>2006 zondag 1 januari</td>\n",
       "      <td>1,325</td>\n",
       "      <td>1,003</td>\n",
       "      <td>0,543</td>\n",
       "    </tr>\n",
       "    <tr>\n",
       "      <th>1</th>\n",
       "      <td>2006 maandag 2 januari</td>\n",
       "      <td>1,328</td>\n",
       "      <td>1,007</td>\n",
       "      <td>0,542</td>\n",
       "    </tr>\n",
       "    <tr>\n",
       "      <th>2</th>\n",
       "      <td>2006 dinsdag 3 januari</td>\n",
       "      <td>1,332</td>\n",
       "      <td>1,007</td>\n",
       "      <td>0,54</td>\n",
       "    </tr>\n",
       "    <tr>\n",
       "      <th>3</th>\n",
       "      <td>2006 woensdag 4 januari</td>\n",
       "      <td>1,348</td>\n",
       "      <td>1,02</td>\n",
       "      <td>0,55</td>\n",
       "    </tr>\n",
       "    <tr>\n",
       "      <th>4</th>\n",
       "      <td>2006 donderdag 5 januari</td>\n",
       "      <td>1,347</td>\n",
       "      <td>1,021</td>\n",
       "      <td>0,55</td>\n",
       "    </tr>\n",
       "  </tbody>\n",
       "</table>\n",
       "</div>"
      ],
      "text/plain": [
       "                   Perioden Benzine Diesel    Lpg\n",
       "0     2006 zondag 1 januari   1,325  1,003  0,543\n",
       "1    2006 maandag 2 januari   1,328  1,007  0,542\n",
       "2    2006 dinsdag 3 januari   1,332  1,007   0,54\n",
       "3   2006 woensdag 4 januari   1,348   1,02   0,55\n",
       "4  2006 donderdag 5 januari   1,347  1,021   0,55"
      ]
     },
     "execution_count": 2,
     "metadata": {},
     "output_type": "execute_result"
    }
   ],
   "source": [
    "fuel_data.head() "
   ]
  },
  {
   "cell_type": "code",
   "execution_count": 3,
   "metadata": {},
   "outputs": [
    {
     "data": {
      "text/html": [
       "<div>\n",
       "<style scoped>\n",
       "    .dataframe tbody tr th:only-of-type {\n",
       "        vertical-align: middle;\n",
       "    }\n",
       "\n",
       "    .dataframe tbody tr th {\n",
       "        vertical-align: top;\n",
       "    }\n",
       "\n",
       "    .dataframe thead th {\n",
       "        text-align: right;\n",
       "    }\n",
       "</style>\n",
       "<table border=\"1\" class=\"dataframe\">\n",
       "  <thead>\n",
       "    <tr style=\"text-align: right;\">\n",
       "      <th></th>\n",
       "      <th>Goederenstromen</th>\n",
       "      <th>Perioden</th>\n",
       "      <th>1000 kg</th>\n",
       "    </tr>\n",
       "  </thead>\n",
       "  <tbody>\n",
       "    <tr>\n",
       "      <th>0</th>\n",
       "      <td>Inkomend transport; totaal</td>\n",
       "      <td>2007*</td>\n",
       "      <td>103838966</td>\n",
       "    </tr>\n",
       "    <tr>\n",
       "      <th>1</th>\n",
       "      <td>Inkomend transport; totaal</td>\n",
       "      <td>2008*</td>\n",
       "      <td>103405705</td>\n",
       "    </tr>\n",
       "    <tr>\n",
       "      <th>2</th>\n",
       "      <td>Inkomend transport; totaal</td>\n",
       "      <td>2009*</td>\n",
       "      <td>89433416</td>\n",
       "    </tr>\n",
       "    <tr>\n",
       "      <th>3</th>\n",
       "      <td>Inkomend transport; totaal</td>\n",
       "      <td>2010*</td>\n",
       "      <td>89935769</td>\n",
       "    </tr>\n",
       "    <tr>\n",
       "      <th>4</th>\n",
       "      <td>Inkomend transport; totaal</td>\n",
       "      <td>2011*</td>\n",
       "      <td>91253760</td>\n",
       "    </tr>\n",
       "  </tbody>\n",
       "</table>\n",
       "</div>"
      ],
      "text/plain": [
       "              Goederenstromen Perioden    1000 kg\n",
       "0  Inkomend transport; totaal    2007*  103838966\n",
       "1  Inkomend transport; totaal    2008*  103405705\n",
       "2  Inkomend transport; totaal    2009*   89433416\n",
       "3  Inkomend transport; totaal    2010*   89935769\n",
       "4  Inkomend transport; totaal    2011*   91253760"
      ]
     },
     "execution_count": 3,
     "metadata": {},
     "output_type": "execute_result"
    }
   ],
   "source": [
    "transport_data.head()"
   ]
  },
  {
   "cell_type": "code",
   "execution_count": 4,
   "metadata": {},
   "outputs": [
    {
     "data": {
      "text/html": [
       "<div>\n",
       "<style scoped>\n",
       "    .dataframe tbody tr th:only-of-type {\n",
       "        vertical-align: middle;\n",
       "    }\n",
       "\n",
       "    .dataframe tbody tr th {\n",
       "        vertical-align: top;\n",
       "    }\n",
       "\n",
       "    .dataframe thead th {\n",
       "        text-align: right;\n",
       "    }\n",
       "</style>\n",
       "<table border=\"1\" class=\"dataframe\">\n",
       "  <thead>\n",
       "    <tr style=\"text-align: right;\">\n",
       "      <th></th>\n",
       "      <th>Perioden</th>\n",
       "      <th>Benzine</th>\n",
       "      <th>Diesel</th>\n",
       "      <th>Lpg</th>\n",
       "    </tr>\n",
       "  </thead>\n",
       "  <tbody>\n",
       "    <tr>\n",
       "      <th>0</th>\n",
       "      <td>2006</td>\n",
       "      <td>1.373255</td>\n",
       "      <td>1.043211</td>\n",
       "      <td>0.520479</td>\n",
       "    </tr>\n",
       "    <tr>\n",
       "      <th>1</th>\n",
       "      <td>2007</td>\n",
       "      <td>1.414156</td>\n",
       "      <td>1.059721</td>\n",
       "      <td>0.538271</td>\n",
       "    </tr>\n",
       "    <tr>\n",
       "      <th>2</th>\n",
       "      <td>2008</td>\n",
       "      <td>1.476393</td>\n",
       "      <td>1.241314</td>\n",
       "      <td>0.598790</td>\n",
       "    </tr>\n",
       "    <tr>\n",
       "      <th>3</th>\n",
       "      <td>2009</td>\n",
       "      <td>1.354011</td>\n",
       "      <td>1.012929</td>\n",
       "      <td>0.509482</td>\n",
       "    </tr>\n",
       "    <tr>\n",
       "      <th>4</th>\n",
       "      <td>2010</td>\n",
       "      <td>1.503186</td>\n",
       "      <td>1.170838</td>\n",
       "      <td>0.644268</td>\n",
       "    </tr>\n",
       "  </tbody>\n",
       "</table>\n",
       "</div>"
      ],
      "text/plain": [
       "   Perioden   Benzine    Diesel       Lpg\n",
       "0      2006  1.373255  1.043211  0.520479\n",
       "1      2007  1.414156  1.059721  0.538271\n",
       "2      2008  1.476393  1.241314  0.598790\n",
       "3      2009  1.354011  1.012929  0.509482\n",
       "4      2010  1.503186  1.170838  0.644268"
      ]
     },
     "execution_count": 4,
     "metadata": {},
     "output_type": "execute_result"
    }
   ],
   "source": [
    "#only run this cell one time\n",
    "from datetime import datetime\n",
    "\n",
    "# Custom function to convert a date string to a Pandas datetime\n",
    "def parse_date(date_str):\n",
    "    for i, month_name in enumerate(dutch_months):\n",
    "        date_str = date_str.replace(month_name, datetime(2000, i+1, 1).strftime('%B'))\n",
    "\n",
    "    for i, day_name in enumerate(dutch_days):\n",
    "        date_str = date_str.replace(day_name, datetime(2000, 1, i+1).strftime('%A'))\n",
    "\n",
    "    date_format = '%Y %A %d %B'\n",
    "    return pd.to_datetime(date_str, format=date_format)\n",
    "\n",
    "# Define Dutch months and day names\n",
    "dutch_months = ['januari', 'februari', 'maart', 'april', 'mei', 'juni', 'juli', 'augustus', 'september', 'oktober', 'november', 'december']\n",
    "dutch_days = ['zondag', 'maandag', 'dinsdag', 'woensdag', 'donderdag', 'vrijdag', 'zaterdag']\n",
    "\n",
    "# Apply the custom function to the \"Perioden\" column\n",
    "fuel_data['Perioden'] = fuel_data['Perioden'].apply(parse_date)\n",
    "\n",
    "#set perioden to datetime format year\n",
    "fuel_data['Perioden'] = fuel_data['Perioden'].dt.year\n",
    "\n",
    "#replace , to . and set to float\n",
    "fuel_data['Benzine'] = fuel_data['Benzine'].str.replace(',', '.', regex=False)\n",
    "fuel_data['Benzine'] = fuel_data['Benzine'].astype(float)\n",
    "fuel_data['Diesel'] = fuel_data['Diesel'].str.replace(',', '.', regex=False)\n",
    "fuel_data['Diesel'] = fuel_data['Diesel'].astype(float)\n",
    "fuel_data['Lpg'] = fuel_data['Lpg'].str.replace(',', '.', regex=False)\n",
    "fuel_data['Lpg'] = fuel_data['Lpg'].astype(float)\n",
    "\n",
    "# Group by year and calculate the mean for all columns\n",
    "fuel_data = fuel_data.groupby('Perioden').mean().reset_index()\n",
    "\n",
    "# Display the DataFrame with the converted dates\n",
    "fuel_data.head()"
   ]
  },
  {
   "cell_type": "code",
   "execution_count": 5,
   "metadata": {},
   "outputs": [],
   "source": [
    "#only run this cell one time\n",
    "#remove asterix from tansport data\n",
    "transport_data['Perioden'] = transport_data['Perioden'].str.replace('*', '', regex=False)\n",
    "\n",
    "#set perioden to datetime format year\n",
    "transport_data['Perioden'] = pd.to_datetime(transport_data['Perioden'])\n",
    "transport_data['Perioden'] = transport_data['Perioden'].dt.year"
   ]
  },
  {
   "cell_type": "code",
   "execution_count": 6,
   "metadata": {},
   "outputs": [
    {
     "data": {
      "text/html": [
       "<div>\n",
       "<style scoped>\n",
       "    .dataframe tbody tr th:only-of-type {\n",
       "        vertical-align: middle;\n",
       "    }\n",
       "\n",
       "    .dataframe tbody tr th {\n",
       "        vertical-align: top;\n",
       "    }\n",
       "\n",
       "    .dataframe thead th {\n",
       "        text-align: right;\n",
       "    }\n",
       "</style>\n",
       "<table border=\"1\" class=\"dataframe\">\n",
       "  <thead>\n",
       "    <tr style=\"text-align: right;\">\n",
       "      <th></th>\n",
       "      <th>Goederenstromen</th>\n",
       "      <th>Perioden</th>\n",
       "      <th>1000 kg</th>\n",
       "    </tr>\n",
       "  </thead>\n",
       "  <tbody>\n",
       "    <tr>\n",
       "      <th>0</th>\n",
       "      <td>Inkomend transport; totaal</td>\n",
       "      <td>2007</td>\n",
       "      <td>103838966</td>\n",
       "    </tr>\n",
       "    <tr>\n",
       "      <th>1</th>\n",
       "      <td>Inkomend transport; totaal</td>\n",
       "      <td>2008</td>\n",
       "      <td>103405705</td>\n",
       "    </tr>\n",
       "    <tr>\n",
       "      <th>2</th>\n",
       "      <td>Inkomend transport; totaal</td>\n",
       "      <td>2009</td>\n",
       "      <td>89433416</td>\n",
       "    </tr>\n",
       "    <tr>\n",
       "      <th>3</th>\n",
       "      <td>Inkomend transport; totaal</td>\n",
       "      <td>2010</td>\n",
       "      <td>89935769</td>\n",
       "    </tr>\n",
       "    <tr>\n",
       "      <th>4</th>\n",
       "      <td>Inkomend transport; totaal</td>\n",
       "      <td>2011</td>\n",
       "      <td>91253760</td>\n",
       "    </tr>\n",
       "  </tbody>\n",
       "</table>\n",
       "</div>"
      ],
      "text/plain": [
       "              Goederenstromen  Perioden    1000 kg\n",
       "0  Inkomend transport; totaal      2007  103838966\n",
       "1  Inkomend transport; totaal      2008  103405705\n",
       "2  Inkomend transport; totaal      2009   89433416\n",
       "3  Inkomend transport; totaal      2010   89935769\n",
       "4  Inkomend transport; totaal      2011   91253760"
      ]
     },
     "execution_count": 6,
     "metadata": {},
     "output_type": "execute_result"
    }
   ],
   "source": [
    "transport_data.head()"
   ]
  },
  {
   "cell_type": "code",
   "execution_count": null,
   "metadata": {},
   "outputs": [],
   "source": []
  },
  {
   "cell_type": "code",
   "execution_count": null,
   "metadata": {},
   "outputs": [],
   "source": []
  }
 ],
 "metadata": {
  "kernelspec": {
   "display_name": "Python 3 (ipykernel)",
   "language": "python",
   "name": "python3"
  },
  "language_info": {
   "codemirror_mode": {
    "name": "ipython",
    "version": 3
   },
   "file_extension": ".py",
   "mimetype": "text/x-python",
   "name": "python",
   "nbconvert_exporter": "python",
   "pygments_lexer": "ipython3",
   "version": "3.9.13"
  },
  "vscode": {
   "interpreter": {
    "hash": "31f2aee4e71d21fbe5cf8b01ff0e069b9275f58929596ceb00d14d90e3e16cd6"
   }
  }
 },
 "nbformat": 4,
 "nbformat_minor": 2
}
